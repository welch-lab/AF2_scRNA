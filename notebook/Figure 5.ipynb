{
 "cells": [
  {
   "cell_type": "code",
   "execution_count": 1,
   "id": "11db47af",
   "metadata": {},
   "outputs": [],
   "source": [
    "import pandas as pd\n",
    "from scipy import stats\n",
    "import scipy.stats as sc\n",
    "import seaborn as sns\n",
    "import matplotlib.pyplot as plt\n",
    "import json\n",
    "import numpy as np\n",
    "import heapq\n",
    "import common_function as CF"
   ]
  },
  {
   "cell_type": "code",
   "execution_count": 2,
   "id": "202d2408",
   "metadata": {},
   "outputs": [],
   "source": [
    "#path for summary of radius of gyration\n",
    "reference_radius_path='../data/json/reference_radius.json'\n",
    "isoform_radius_path='../data/json/isoform_radius.json'\n",
    "difference_radius_path='../data/json/difference_radius.json'\n",
    "#path for as event\n",
    "as_event_path='../data/json/as_event.json'\n",
    "#path for quality\n",
    "reference_high_confident_path='../data/csv/reference_high_confident.csv'\n",
    "isoform_high_confident_path='../data/csv/isoform_high_confident.csv'"
   ]
  },
  {
   "cell_type": "markdown",
   "id": "60355bb1",
   "metadata": {},
   "source": [
    "<span style=\"font-size: 20px;\">Plot radius of gyration distribution: </span>"
   ]
  },
  {
   "cell_type": "code",
   "execution_count": 3,
   "id": "563dc838",
   "metadata": {},
   "outputs": [],
   "source": [
    "radius_reference = CF.load_file_json(reference_radius_path)\n",
    "radius_isoform = CF.load_file_json(isoform_radius_path)\n",
    "radius_difference = CF.load_file_json(difference_radius_path)\n",
    "as_event = CF.load_file_json(as_event_path)\n",
    "reference_high_confident = pd.read_csv(reference_high_confident_path)\n",
    "isoform_high_confident = pd.read_csv(isoform_high_confident_path)"
   ]
  },
  {
   "cell_type": "code",
   "execution_count": 4,
   "id": "4dc7ebaf",
   "metadata": {},
   "outputs": [],
   "source": [
    "#select only high and confident structures\n",
    "radius_isoform,radius_reference,radius_difference = CF.combine_quality_metric(reference_high_confident,isoform_high_confident,radius_reference,radius_isoform,radius_difference)"
   ]
  },
  {
   "cell_type": "code",
   "execution_count": 5,
   "id": "ae349fd0",
   "metadata": {},
   "outputs": [],
   "source": [
    "#plot distribtion\n",
    "def plot_distribtion_box(isoform_radius,reference_radius,outliers = True):\n",
    "    plot_df=pd.DataFrame(columns=['Class','Radius of gyration'])\n",
    "    index=0\n",
    "    radius_list=list(isoform_radius.values())+list(reference_radius.values())\n",
    "    plot_df['Class']=['Isoform']*len(isoform_radius)+['Reference']*len(reference_radius)\n",
    "    plot_df['Radius of gyration']=radius_list\n",
    "    \n",
    "    plt.figure(figsize=(2,4))\n",
    "    box_colors = ['#F3BF70','#25D9F5']\n",
    "\n",
    "    if outliers==False:\n",
    "        sns.boxplot(x=\"Class\",y=\"Radius of gyration\",data=plot_df,palette=\"Set3\",showfliers = False,notch=True)\n",
    "    else:  \n",
    "        sns.boxplot(x=\"Class\",y=\"Radius of gyration\",data=plot_df,flierprops = {'marker':'o','markerfacecolor':'black','markersize': 1},notch=True,width=0.8,palette=box_colors,order=['Reference','Isoform'])\n",
    "    plt.xlabel('')\n",
    "\n",
    "    plt.ylabel(\"Radius of gyration(Å)\",fontsize=12)\n",
    "    plt.xticks(fontsize=12)\n",
    "    plt.yticks(range(0, 160, 30),fontsize=12)\n",
    "    plt.gca().spines['right'].set_visible(False)\n",
    "    plt.gca().spines['top'].set_visible(False)\n",
    "\n",
    "    return plot_df"
   ]
  },
  {
   "cell_type": "code",
   "execution_count": 6,
   "id": "703f1483",
   "metadata": {},
   "outputs": [
    {
     "data": {
      "text/html": [
       "<div>\n",
       "<style scoped>\n",
       "    .dataframe tbody tr th:only-of-type {\n",
       "        vertical-align: middle;\n",
       "    }\n",
       "\n",
       "    .dataframe tbody tr th {\n",
       "        vertical-align: top;\n",
       "    }\n",
       "\n",
       "    .dataframe thead th {\n",
       "        text-align: right;\n",
       "    }\n",
       "</style>\n",
       "<table border=\"1\" class=\"dataframe\">\n",
       "  <thead>\n",
       "    <tr style=\"text-align: right;\">\n",
       "      <th></th>\n",
       "      <th>Class</th>\n",
       "      <th>Radius of gyration</th>\n",
       "    </tr>\n",
       "  </thead>\n",
       "  <tbody>\n",
       "    <tr>\n",
       "      <th>0</th>\n",
       "      <td>Isoform</td>\n",
       "      <td>26.232095</td>\n",
       "    </tr>\n",
       "    <tr>\n",
       "      <th>1</th>\n",
       "      <td>Isoform</td>\n",
       "      <td>33.301574</td>\n",
       "    </tr>\n",
       "    <tr>\n",
       "      <th>2</th>\n",
       "      <td>Isoform</td>\n",
       "      <td>18.691617</td>\n",
       "    </tr>\n",
       "    <tr>\n",
       "      <th>3</th>\n",
       "      <td>Isoform</td>\n",
       "      <td>31.025828</td>\n",
       "    </tr>\n",
       "    <tr>\n",
       "      <th>4</th>\n",
       "      <td>Isoform</td>\n",
       "      <td>23.020816</td>\n",
       "    </tr>\n",
       "    <tr>\n",
       "      <th>...</th>\n",
       "      <td>...</td>\n",
       "      <td>...</td>\n",
       "    </tr>\n",
       "    <tr>\n",
       "      <th>11063</th>\n",
       "      <td>Reference</td>\n",
       "      <td>14.386634</td>\n",
       "    </tr>\n",
       "    <tr>\n",
       "      <th>11064</th>\n",
       "      <td>Reference</td>\n",
       "      <td>37.517719</td>\n",
       "    </tr>\n",
       "    <tr>\n",
       "      <th>11065</th>\n",
       "      <td>Reference</td>\n",
       "      <td>63.398830</td>\n",
       "    </tr>\n",
       "    <tr>\n",
       "      <th>11066</th>\n",
       "      <td>Reference</td>\n",
       "      <td>19.471702</td>\n",
       "    </tr>\n",
       "    <tr>\n",
       "      <th>11067</th>\n",
       "      <td>Reference</td>\n",
       "      <td>34.763246</td>\n",
       "    </tr>\n",
       "  </tbody>\n",
       "</table>\n",
       "<p>11068 rows × 2 columns</p>\n",
       "</div>"
      ],
      "text/plain": [
       "           Class  Radius of gyration\n",
       "0        Isoform           26.232095\n",
       "1        Isoform           33.301574\n",
       "2        Isoform           18.691617\n",
       "3        Isoform           31.025828\n",
       "4        Isoform           23.020816\n",
       "...          ...                 ...\n",
       "11063  Reference           14.386634\n",
       "11064  Reference           37.517719\n",
       "11065  Reference           63.398830\n",
       "11066  Reference           19.471702\n",
       "11067  Reference           34.763246\n",
       "\n",
       "[11068 rows x 2 columns]"
      ]
     },
     "execution_count": 6,
     "metadata": {},
     "output_type": "execute_result"
    },
    {
     "data": {
      "image/png": "[encoded data removed]",
      "text/plain": [
       "<Figure size 144x288 with 1 Axes>"
      ]
     },
     "metadata": {
      "needs_background": "light"
     },
     "output_type": "display_data"
    }
   ],
   "source": [
    "plot_distribtion_box(radius_isoform,radius_reference)"
   ]
  },
  {
   "cell_type": "code",
   "execution_count": 7,
   "id": "4f8837f9",
   "metadata": {},
   "outputs": [],
   "source": [
    "#select the isoforms with alternative splicing types\n",
    "radius_isoform_type,radius_difference_type=CF.combine_quality_type(radius_isoform,radius_difference,as_event)"
   ]
  },
  {
   "cell_type": "code",
   "execution_count": 8,
   "id": "444cf275",
   "metadata": {},
   "outputs": [],
   "source": [
    "def plot_difference_outlier_box(difference_radius_type):\n",
    "    difference_radius_type_new={}\n",
    "    for isoform in difference_radius_type.keys():\n",
    "        difference_radius_type_new[isoform]=difference_radius_type[isoform][0]\n",
    "    plot_df = pd.DataFrame()\n",
    "    plot_df['Isoform']=list(difference_radius_type_new.keys())\n",
    "    plot_df['Radius of gyration difference']=list(difference_radius_type_new.values())\n",
    "    plot_df['Class']='Isoform'\n",
    "    fig = plt.figure(figsize=(2,4))\n",
    "    box_colors = ['#25D9F5']\n",
    "    sns.boxplot(data=plot_df, x='Class', y='Radius of gyration difference',flierprops = {'marker':'o','markerfacecolor':'black','markersize': 1},notch=True,width=0.8,palette=box_colors)\n",
    "    plt.xlabel('')\n",
    "    plt.ylabel('Radius of gyration difference(Å)',fontsize=12)\n",
    "    plt.xticks(fontsize=12)\n",
    "    plt.yticks(range(-60, 70, 30),fontsize=12)\n",
    "    plt.gca().spines['right'].set_visible(False)\n",
    "    plt.gca().spines['top'].set_visible(False)\n",
    "    plt.show()\n",
    "    return plot_df"
   ]
  },
  {
   "cell_type": "code",
   "execution_count": 9,
   "id": "a10483f7",
   "metadata": {},
   "outputs": [
    {
     "data": {
      "image/png": "[encoded data removed]",
      "text/plain": [
       "<Figure size 144x288 with 1 Axes>"
      ]
     },
     "metadata": {
      "needs_background": "light"
     },
     "output_type": "display_data"
    }
   ],
   "source": [
    "plot_df=plot_difference_outlier_box(radius_difference_type)"
   ]
  },
  {
   "cell_type": "markdown",
   "id": "5d79eea6",
   "metadata": {},
   "source": [
    "<span style=\"font-size: 20px;\">Select outlier examples and plot the alternative splicing types in radius of gyration outliers: </span>"
   ]
  },
  {
   "cell_type": "code",
   "execution_count": 10,
   "id": "36103801",
   "metadata": {},
   "outputs": [],
   "source": [
    "def calculate_outliters_radius(radius_difference_dic):\n",
    "    radius_difference_list=[]\n",
    "    for radius in radius_difference_dic.values():\n",
    "        radius_difference_list.append(radius[0])\n",
    "    Q1=np.percentile(radius_difference_list,25)\n",
    "    Q3=np.percentile(radius_difference_list,75)\n",
    "    IQR=1.5*(Q3-Q1)\n",
    "    upper_bound=Q3+IQR\n",
    "    lower_bound=Q1-IQR\n",
    "    lower_list=[]\n",
    "    upper_list=[]\n",
    "    for k,v in radius_difference_dic.items():\n",
    "        if v[0]>=upper_bound:\n",
    "            upper_list.append(k)\n",
    "        elif v[0]<=lower_bound:\n",
    "            lower_list.append(k)\n",
    "        else:\n",
    "            continue\n",
    "    return upper_list,lower_list,upper_bound,lower_bound"
   ]
  },
  {
   "cell_type": "code",
   "execution_count": 11,
   "id": "3a29d637",
   "metadata": {},
   "outputs": [],
   "source": [
    "upper_list,lower_list,upper_bound,lower_bound=calculate_outliters_radius(radius_difference_type)"
   ]
  },
  {
   "cell_type": "code",
   "execution_count": 12,
   "id": "3ccb22fa",
   "metadata": {},
   "outputs": [],
   "source": [
    "def replace_as_abb_dic(plot_dic):\n",
    "    new_plot_dic={}\n",
    "    as_name_dic={'exon_skipping':'ES',\n",
    "                 'alternative_donor_site':'ADS',\n",
    "                 'alternative_acceptor_site':'AAS',\n",
    "                 'mutually_exclusive_exon':'MXE',\n",
    "                 'intron_retention':'IR',\n",
    "                 'alternative_first_exon':'AFE',\n",
    "                 'alternative_last_exon':'ALE',\n",
    "                 'mutually_exclusive_exon-alternative_first_exon':'MXE-AFE',\n",
    "                 'mutually_exclusive_exon-alternative_last_exon':'MXE-ALE'}\n",
    "    for key in plot_dic.keys():\n",
    "        new_plot_dic[as_name_dic[key]]=plot_dic[key]\n",
    "    return new_plot_dic"
   ]
  },
  {
   "cell_type": "code",
   "execution_count": 13,
   "id": "cee08849",
   "metadata": {},
   "outputs": [],
   "source": [
    "def get_feature(charge_list,charge_dic):\n",
    "    count_feature={}\n",
    "    for isoform in charge_list:\n",
    "        for feature in charge_dic[isoform][1]:\n",
    "            if feature in count_feature.keys():\n",
    "                count_feature[feature]+=1\n",
    "            else:\n",
    "                count_feature[feature]=1\n",
    "    return count_feature"
   ]
  },
  {
   "cell_type": "code",
   "execution_count": 14,
   "id": "515f76c4",
   "metadata": {},
   "outputs": [],
   "source": [
    "feature_upper=get_feature(upper_list,radius_difference_type)\n",
    "feature_lower=get_feature(lower_list,radius_difference_type)"
   ]
  },
  {
   "cell_type": "code",
   "execution_count": 15,
   "id": "99f25d37",
   "metadata": {},
   "outputs": [],
   "source": [
    "def plot_otlier_event_frequent_pair(positive_outlier,negative_outlier,threshold=5):\n",
    "    selected_positive_outlier_pair = heapq.nlargest(threshold, positive_outlier.items(), key=lambda item: item[1])\n",
    "    selected_negative_outlier_pair = heapq.nlargest(threshold, negative_outlier.items(), key=lambda item: item[1])\n",
    "    sorted_positive_outlier = dict(selected_positive_outlier_pair)\n",
    "    sorted_negative_outlier = dict(selected_negative_outlier_pair)\n",
    "    sorted_positive_outlier = replace_as_abb_dic(sorted_positive_outlier)\n",
    "    sorted_negative_outlier = replace_as_abb_dic(sorted_negative_outlier)\n",
    "    \n",
    "    as_list=list(sorted_positive_outlier.keys())\n",
    "    positive_outlier_list=list(sorted_positive_outlier.values())\n",
    "    negative_outlier_list=[sorted_negative_outlier[i] for i in as_list]\n",
    "\n",
    "    bar_width = 0.4\n",
    "    bar1_positions = range(len(as_list))\n",
    "    bar2_positions = [x + bar_width for x in bar1_positions]\n",
    " \n",
    "    plt.bar(bar1_positions, positive_outlier_list, width=bar_width, label='positive',color='#000099')\n",
    "    plt.bar(bar2_positions, negative_outlier_list, width=bar_width, label='negative',color='#FF0000')\n",
    "    \n",
    "    plt.xticks([x + bar_width/2 for x in bar1_positions], as_list,fontsize=14)\n",
    "    plt.legend(fontsize=12)\n",
    "    plt.xlabel('AS event type',fontsize=14)\n",
    "    plt.ylabel('AS event number',fontsize=14)\n",
    "    plt.yticks(range(0, 310, 60),fontsize=14)\n",
    "    plt.show()\n",
    "    return True"
   ]
  },
  {
   "cell_type": "code",
   "execution_count": 16,
   "id": "29f5adc8",
   "metadata": {},
   "outputs": [
    {
     "data": {
      "image/png": "[encoded data removed]",
      "text/plain": [
       "<Figure size 432x288 with 1 Axes>"
      ]
     },
     "metadata": {
      "needs_background": "light"
     },
     "output_type": "display_data"
    },
    {
     "data": {
      "text/plain": [
       "True"
      ]
     },
     "execution_count": 16,
     "metadata": {},
     "output_type": "execute_result"
    }
   ],
   "source": [
    "plot_otlier_event_frequent_pair(feature_upper,feature_lower)"
   ]
  },
  {
   "cell_type": "code",
   "execution_count": null,
   "id": "8acdb65b",
   "metadata": {},
   "outputs": [],
   "source": []
  }
 ],
 "metadata": {
  "kernelspec": {
   "display_name": "Python 3 (ipykernel)",
   "language": "python",
   "name": "python3"
  },
  "language_info": {
   "codemirror_mode": {
    "name": "ipython",
    "version": 3
   },
   "file_extension": ".py",
   "mimetype": "text/x-python",
   "name": "python",
   "nbconvert_exporter": "python",
   "pygments_lexer": "ipython3",
   "version": "3.9.7"
  }
 },
 "nbformat": 4,
 "nbformat_minor": 5
}
