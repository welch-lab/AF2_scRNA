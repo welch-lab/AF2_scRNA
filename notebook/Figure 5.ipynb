{
 "cells": [
  {
   "cell_type": "code",
   "execution_count": 1,
   "id": "11db47af",
   "metadata": {},
   "outputs": [],
   "source": [
    "import pandas as pd\n",
    "from scipy import stats\n",
    "import scipy.stats as sc\n",
    "import seaborn as sns\n",
    "import matplotlib.pyplot as plt\n",
    "import json\n",
    "import numpy as np\n",
    "import heapq\n",
    "\n",
    "import sys\n",
    "sys.path.append('../script')\n",
    "import common_function as CF"
   ]
  },
  {
   "cell_type": "code",
   "execution_count": 2,
   "id": "202d2408",
   "metadata": {},
   "outputs": [],
   "source": [
    "#path for summary of radius of gyration\n",
    "reference_radius_path='../data/json/reference_radius.json'\n",
    "isoform_radius_path='../data/json/isoform_radius.json'\n",
    "difference_radius_path='../data/json/difference_radius.json'\n",
    "plddt_IDR_isoform_path = '../data/json/plddt_IDR_isoform.json'\n",
    "plddt_IDR_reference_path = '../data/json/plddt_IDR_reference.json'\n",
    "#path for as event\n",
    "as_event_path='../data/json/as_event.json'\n",
    "reference_summary_path = '../data/csv/summary_reference.csv'\n",
    "isoform_summary_path = '../data/csv/summary_isoform.csv'"
   ]
  },
  {
   "cell_type": "code",
   "execution_count": 3,
   "id": "456024da",
   "metadata": {},
   "outputs": [],
   "source": [
    "def load_file_json(path):\n",
    "    with open(path,'r') as load_f:\n",
    "        file=json.load(load_f)\n",
    "    return file"
   ]
  },
  {
   "cell_type": "markdown",
   "id": "60355bb1",
   "metadata": {},
   "source": [
    "<span style=\"font-size: 20px;\">Plot radius of gyration distribution: </span>"
   ]
  },
  {
   "cell_type": "code",
   "execution_count": 4,
   "id": "563dc838",
   "metadata": {},
   "outputs": [],
   "source": [
    "radius_reference = load_file_json(reference_radius_path)\n",
    "radius_isoform = load_file_json(isoform_radius_path)\n",
    "radius_difference = load_file_json(difference_radius_path)\n",
    "plddt_IDR_isoform = load_file_json(plddt_IDR_isoform_path)\n",
    "plddt_IDR_reference = load_file_json(plddt_IDR_reference_path)\n",
    "as_event=load_file_json(as_event_path)\n",
    "reference_summary=pd.read_csv(reference_summary_path)\n",
    "isoform_summary=pd.read_csv(isoform_summary_path)"
   ]
  },
  {
   "cell_type": "code",
   "execution_count": 5,
   "id": "18e4d37e",
   "metadata": {},
   "outputs": [],
   "source": [
    "reference_high_confident = reference_summary[reference_summary['plddt']>=70.0]\n",
    "isoform_high_confident = isoform_summary[isoform_summary['plddt']>=70.0]"
   ]
  },
  {
   "cell_type": "code",
   "execution_count": 6,
   "id": "dc8d9a59",
   "metadata": {},
   "outputs": [],
   "source": [
    "reference_high = reference_summary[reference_summary['plddt']>=90.0]\n",
    "isoform_high = isoform_summary[isoform_summary['plddt']>=90.0]"
   ]
  },
  {
   "cell_type": "code",
   "execution_count": 7,
   "id": "4dc7ebaf",
   "metadata": {},
   "outputs": [],
   "source": [
    "#select high and confident structures\n",
    "radius_isoform,radius_reference,radius_difference = CF.combine_quality_metric(reference_high_confident,isoform_high_confident,radius_reference,radius_isoform,radius_difference)\n",
    "isoform_radius_list=list(radius_isoform.values())\n",
    "reference_radius_list=list(radius_reference.values())\n",
    "statistic, p_value = stats.mannwhitneyu(isoform_radius_list,reference_radius_list)"
   ]
  },
  {
   "cell_type": "code",
   "execution_count": 8,
   "id": "6cd84581",
   "metadata": {},
   "outputs": [
    {
     "name": "stdout",
     "output_type": "stream",
     "text": [
      "high and confident median radius for isoform: 27.46107294019553\n",
      "high and confident radius for reference: 28.587748240154994\n",
      "high and confident pvalue: 2.8767645940547078e-11\n"
     ]
    }
   ],
   "source": [
    "#high and confident \n",
    "print('high and confident median radius for isoform:',np.median(isoform_radius_list))\n",
    "\n",
    "#high only\n",
    "print('high and confident radius for reference:',np.median(reference_radius_list))\n",
    "\n",
    "#high only\n",
    "print('high and confident pvalue:',p_value)"
   ]
  },
  {
   "cell_type": "code",
   "execution_count": 15,
   "id": "e3720ced",
   "metadata": {},
   "outputs": [],
   "source": [
    "#select high structures\n",
    "radius_isoform,radius_reference,radius_difference = CF.combine_quality_metric(reference_high,isoform_high,radius_reference,radius_isoform,radius_difference)\n",
    "isoform_radius_list=list(radius_isoform.values())\n",
    "reference_radius_list=list(radius_reference.values())\n",
    "statistic, p_value = stats.mannwhitneyu(isoform_radius_list,reference_radius_list)"
   ]
  },
  {
   "cell_type": "code",
   "execution_count": 14,
   "id": "8341932a",
   "metadata": {},
   "outputs": [
    {
     "name": "stdout",
     "output_type": "stream",
     "text": [
      "high median radius for isoform: 21.664840302573804\n",
      "high median radius for reference: 22.909958972482713\n",
      "high pvalue: 2.4829996654350025e-05\n"
     ]
    }
   ],
   "source": [
    "#high only\n",
    "print('high median radius for isoform:',np.median(isoform_radius_list))\n",
    "\n",
    "#high only\n",
    "print('high median radius for reference:',np.median(reference_radius_list))\n",
    "\n",
    "#high only\n",
    "print('high pvalue:',p_value)"
   ]
  },
  {
   "cell_type": "code",
   "execution_count": 14,
   "id": "ae349fd0",
   "metadata": {},
   "outputs": [],
   "source": [
    "#plot distribtion\n",
    "def plot_distribtion_box(isoform_radius,reference_radius,outliers = True,name=None):\n",
    "    plot_df=pd.DataFrame(columns=['Class','Radius of gyration'])\n",
    "    index=0\n",
    "    radius_list=list(isoform_radius.values())+list(reference_radius.values())\n",
    "\n",
    "    plot_df['Class']=['Isoform']*len(isoform_radius)+['Reference']*len(reference_radius)\n",
    "    plot_df['Radius of gyration']=radius_list\n",
    "    \n",
    "    plt.figure(figsize=(2,4))\n",
    "    box_colors = ['#F3BF70','#25D9F5']\n",
    "\n",
    "    if outliers==False:\n",
    "        sns.boxplot(x=\"Class\",y=\"Radius of gyration\",data=plot_df,palette=\"Set3\",showfliers = False,notch=True)\n",
    "    else:  \n",
    "        sns.boxplot(x=\"Class\",y=\"Radius of gyration\",data=plot_df,flierprops = {'marker':'o','markerfacecolor':'black','markersize': 1},notch=True,width=0.8,palette=box_colors,order=['Reference','Isoform'])\n",
    "    plt.xlabel('')\n",
    "\n",
    "    plt.ylabel(\"Radius of gyration(Å)\",fontsize=12)\n",
    "    plt.xticks(fontsize=12)\n",
    "    #plt.yticks(range(0, 130, 30),fontsize=12)\n",
    "    plt.gca().spines['right'].set_visible(False)\n",
    "    plt.gca().spines['top'].set_visible(False)\n",
    "    #plt.savefig('radius_dis_high.png',dpi=600,bbox_inches='tight')\n",
    "    plt.savefig(name+'_distribution.png',dpi=600,bbox_inches='tight')\n",
    "    plt.show()\n",
    "    return plot_df"
   ]
  },
  {
   "cell_type": "code",
   "execution_count": null,
   "id": "c1932ca0",
   "metadata": {},
   "outputs": [],
   "source": []
  },
  {
   "cell_type": "code",
   "execution_count": 9,
   "id": "9ce7aa2a",
   "metadata": {},
   "outputs": [],
   "source": [
    "#select only high and confident structures and also 0 IDR stuructres\n",
    "plddt_IDR_isoform_list=[]\n",
    "for i in plddt_IDR_isoform:\n",
    "    reference = i.split('-')[0]\n",
    "    if plddt_IDR_isoform[i] == [] and reference in plddt_IDR_reference.keys():\n",
    "        if plddt_IDR_reference[reference]==[] and i in list(isoform_high_confident['isoform']) and reference in list(reference_high_confident['reference']):\n",
    "            plddt_IDR_isoform_list.append(i)\n",
    "\n",
    "plddt_IDR_reference_list = list(set([i.split('-')[0] for i in plddt_IDR_isoform_list]))"
   ]
  },
  {
   "cell_type": "code",
   "execution_count": 10,
   "id": "3fa60a81",
   "metadata": {},
   "outputs": [
    {
     "data": {
      "text/plain": [
       "1222"
      ]
     },
     "execution_count": 10,
     "metadata": {},
     "output_type": "execute_result"
    }
   ],
   "source": [
    "len(plddt_IDR_reference_list)"
   ]
  },
  {
   "cell_type": "code",
   "execution_count": 9,
   "id": "f5851661",
   "metadata": {},
   "outputs": [],
   "source": [
    "plddt_IDR_reference_radius = {}\n",
    "plddt_IDR_isoform_radius = {}\n",
    "plddt_IDR_isoform_radius_diff = {}\n",
    "\n",
    "for isoform in plddt_IDR_isoform_list:\n",
    "    if isoform in radius_difference.keys():\n",
    "        reference = isoform.split('-')[0]\n",
    "        plddt_IDR_isoform_radius[isoform] = radius_isoform[isoform]\n",
    "        plddt_IDR_reference_radius[reference] = radius_reference[reference]\n",
    "        plddt_IDR_isoform_radius_diff[isoform] = radius_difference[isoform]\n",
    "    else:\n",
    "        print(isoform)"
   ]
  },
  {
   "cell_type": "code",
   "execution_count": 10,
   "id": "e871af70",
   "metadata": {},
   "outputs": [],
   "source": [
    "isoform_radius_IDR_list=list(plddt_IDR_isoform_radius.values())\n",
    "reference_radius_IDR_list=list(plddt_IDR_reference_radius.values())\n",
    "statistic, p_value = stats.mannwhitneyu(isoform_radius_IDR_list,reference_radius_IDR_list)"
   ]
  },
  {
   "cell_type": "code",
   "execution_count": 11,
   "id": "52d675d7",
   "metadata": {},
   "outputs": [
    {
     "name": "stdout",
     "output_type": "stream",
     "text": [
      "non-IDR median radius for isoform: 22.01093742085996\n",
      "non-IDR radius for reference: 22.929924714407388\n",
      "non-IDR pvalue: 1.6227181527213565e-05\n"
     ]
    }
   ],
   "source": [
    "#non-IDR\n",
    "print('non-IDR median radius for isoform:',np.median(isoform_radius_IDR_list))\n",
    "\n",
    "#non-IDR\n",
    "print('non-IDR radius for reference:',np.median(reference_radius_IDR_list))\n",
    "\n",
    "#non-IDR\n",
    "print('non-IDR pvalue:',p_value)"
   ]
  },
  {
   "cell_type": "code",
   "execution_count": 11,
   "id": "615d13eb",
   "metadata": {},
   "outputs": [
    {
     "data": {
      "text/plain": [
       "22.01093742085996"
      ]
     },
     "execution_count": 11,
     "metadata": {},
     "output_type": "execute_result"
    }
   ],
   "source": [
    "np.median(isoform_radius_IDR_list)"
   ]
  },
  {
   "cell_type": "code",
   "execution_count": 12,
   "id": "ae499c8f",
   "metadata": {},
   "outputs": [
    {
     "data": {
      "text/plain": [
       "22.929924714407388"
      ]
     },
     "execution_count": 12,
     "metadata": {},
     "output_type": "execute_result"
    }
   ],
   "source": [
    "np.median(reference_radius_IDR_list)"
   ]
  },
  {
   "cell_type": "code",
   "execution_count": 12,
   "id": "4ba6beff",
   "metadata": {},
   "outputs": [
    {
     "data": {
      "text/plain": [
       "1222"
      ]
     },
     "execution_count": 12,
     "metadata": {},
     "output_type": "execute_result"
    }
   ],
   "source": [
    "len(reference_radius_IDR_list)"
   ]
  },
  {
   "cell_type": "code",
   "execution_count": 31,
   "id": "acadea48",
   "metadata": {},
   "outputs": [
    {
     "data": {
      "text/plain": [
       "-0.9189872935474277"
      ]
     },
     "execution_count": 31,
     "metadata": {},
     "output_type": "execute_result"
    }
   ],
   "source": [
    "np.median(isoform_radius_IDR_list)-np.median(reference_radius_IDR_list)"
   ]
  },
  {
   "cell_type": "code",
   "execution_count": 28,
   "id": "edbc86ba",
   "metadata": {},
   "outputs": [
    {
     "data": {
      "text/plain": [
       "1.6227181527213565e-05"
      ]
     },
     "execution_count": 28,
     "metadata": {},
     "output_type": "execute_result"
    }
   ],
   "source": [
    "p_value"
   ]
  },
  {
   "cell_type": "code",
   "execution_count": 13,
   "id": "721d45d6",
   "metadata": {},
   "outputs": [
    {
     "data": {
      "text/plain": [
       "1770"
      ]
     },
     "execution_count": 13,
     "metadata": {},
     "output_type": "execute_result"
    }
   ],
   "source": [
    "len(plddt_IDR_isoform_radius)"
   ]
  },
  {
   "cell_type": "code",
   "execution_count": 1,
   "id": "010e740c",
   "metadata": {},
   "outputs": [],
   "source": [
    "#for high\n",
    "#plot_distribtion_box(radius_isoform,radius_reference)"
   ]
  },
  {
   "cell_type": "code",
   "execution_count": 12,
   "id": "f51fa528",
   "metadata": {},
   "outputs": [
    {
     "name": "stderr",
     "output_type": "stream",
     "text": [
      "/tmp/ipykernel_2356945/3824088206.py:15: FutureWarning: \n",
      "\n",
      "Passing `palette` without assigning `hue` is deprecated and will be removed in v0.14.0. Assign the `x` variable to `hue` and set `legend=False` for the same effect.\n",
      "\n",
      "  sns.boxplot(x=\"Class\",y=\"Radius of gyration\",data=plot_df,flierprops = {'marker':'o','markerfacecolor':'black','markersize': 1},notch=True,width=0.8,palette=box_colors,order=['Reference','Isoform'])\n"
     ]
    },
    {
     "data": {
      "image/png": "[encoded data removed]",
      "text/plain": [
       "<Figure size 144x288 with 1 Axes>"
      ]
     },
     "metadata": {
      "needs_background": "light"
     },
     "output_type": "display_data"
    }
   ],
   "source": [
    "#for non-IDR dataset\n",
    "plot_distribtion_box(plddt_IDR_isoform_radius,plddt_IDR_reference_radius)"
   ]
  },
  {
   "cell_type": "code",
   "execution_count": null,
   "id": "e93b0ea9",
   "metadata": {},
   "outputs": [],
   "source": [
    "#radius_isoform_type,radius_difference_type=CF.combine_quality_type(radius_isoform,radius_difference,as_event)"
   ]
  },
  {
   "cell_type": "code",
   "execution_count": 14,
   "id": "4f8837f9",
   "metadata": {},
   "outputs": [],
   "source": [
    "#select the isoforms with alternative splicing types\n",
    "isoform_radius_type_IDR,difference_radius_type_IDR=CF.combine_quality_type(plddt_IDR_isoform_radius,plddt_IDR_isoform_radius_diff,as_event)"
   ]
  },
  {
   "cell_type": "code",
   "execution_count": 18,
   "id": "cfaa7cae",
   "metadata": {},
   "outputs": [],
   "source": [
    "#select the isoforms with alternative splicing types only for high\n",
    "isoform_radius_type,difference_radius_type=CF.combine_quality_type(radius_isoform,radius_difference,as_event)"
   ]
  },
  {
   "cell_type": "code",
   "execution_count": 19,
   "id": "b22e6bf5",
   "metadata": {},
   "outputs": [
    {
     "data": {
      "text/plain": [
       "642"
      ]
     },
     "execution_count": 19,
     "metadata": {},
     "output_type": "execute_result"
    }
   ],
   "source": [
    "len(isoform_radius_type)"
   ]
  },
  {
   "cell_type": "code",
   "execution_count": 20,
   "id": "444cf275",
   "metadata": {},
   "outputs": [],
   "source": [
    "def plot_difference_outlier_box(difference_radius_type,name=None):\n",
    "    difference_radius_type_new={}\n",
    "    for isoform in difference_radius_type.keys():\n",
    "        difference_radius_type_new[isoform]=difference_radius_type[isoform][0]\n",
    "    plot_df = pd.DataFrame()\n",
    "    plot_df['Isoform']=list(difference_radius_type_new.keys())\n",
    "    plot_df['Radius of gyration difference']=list(difference_radius_type_new.values())\n",
    "    plot_df['Class']='Isoform'\n",
    "    fig = plt.figure(figsize=(2,4))\n",
    "    box_colors = ['#25D9F5']\n",
    "    sns.boxplot(data=plot_df, x='Class', y='Radius of gyration difference',flierprops = {'marker':'o','markerfacecolor':'black','markersize': 1},notch=True,width=0.8,palette=box_colors)\n",
    "    plt.xlabel('')\n",
    "    plt.ylabel('Radius of gyration difference(Å)',fontsize=12)\n",
    "    plt.xticks(fontsize=12)\n",
    "    #plt.yticks(range(-60, 40, 30),fontsize=12)\n",
    "    plt.gca().spines['right'].set_visible(False)\n",
    "    plt.gca().spines['top'].set_visible(False)\n",
    "    #plt.savefig('radius_dif_high.png',dpi=600,bbox_inches='tight')\n",
    "    plt.savefig(name+'_difference.png',dpi=600,bbox_inches='tight')\n",
    "    plt.show()\n",
    "    return plot_df"
   ]
  },
  {
   "cell_type": "code",
   "execution_count": 23,
   "id": "a10483f7",
   "metadata": {},
   "outputs": [
    {
     "data": {
      "image/png": "[encoded data removed]",
      "text/plain": [
       "<Figure size 144x288 with 1 Axes>"
      ]
     },
     "metadata": {
      "needs_background": "light"
     },
     "output_type": "display_data"
    }
   ],
   "source": [
    "#plot_df=plot_difference_outlier_box(radius_difference_type)"
   ]
  },
  {
   "cell_type": "code",
   "execution_count": 21,
   "id": "8ed14dab",
   "metadata": {},
   "outputs": [
    {
     "name": "stderr",
     "output_type": "stream",
     "text": [
      "/tmp/ipykernel_3301366/271213102.py:11: FutureWarning: \n",
      "\n",
      "Passing `palette` without assigning `hue` is deprecated and will be removed in v0.14.0. Assign the `x` variable to `hue` and set `legend=False` for the same effect.\n",
      "\n",
      "  sns.boxplot(data=plot_df, x='Class', y='Radius of gyration difference',flierprops = {'marker':'o','markerfacecolor':'black','markersize': 1},notch=True,width=0.8,palette=box_colors)\n"
     ]
    },
    {
     "data": {
      "image/png": "[encoded data removed]",
      "text/plain": [
       "<Figure size 144x288 with 1 Axes>"
      ]
     },
     "metadata": {
      "needs_background": "light"
     },
     "output_type": "display_data"
    }
   ],
   "source": [
    "#only for high\n",
    "plot_df=plot_difference_outlier_box(difference_radius_type)"
   ]
  },
  {
   "cell_type": "code",
   "execution_count": 22,
   "id": "bd9d6d02",
   "metadata": {},
   "outputs": [
    {
     "name": "stderr",
     "output_type": "stream",
     "text": [
      "/tmp/ipykernel_2356945/1804996470.py:11: FutureWarning: \n",
      "\n",
      "Passing `palette` without assigning `hue` is deprecated and will be removed in v0.14.0. Assign the `x` variable to `hue` and set `legend=False` for the same effect.\n",
      "\n",
      "  sns.boxplot(data=plot_df, x='Class', y='Radius of gyration difference',flierprops = {'marker':'o','markerfacecolor':'black','markersize': 1},notch=True,width=0.8,palette=box_colors)\n"
     ]
    },
    {
     "data": {
      "image/png": "[encoded data removed]",
      "text/plain": [
       "<Figure size 144x288 with 1 Axes>"
      ]
     },
     "metadata": {
      "needs_background": "light"
     },
     "output_type": "display_data"
    }
   ],
   "source": [
    "plot_df=plot_difference_outlier_box(difference_radius_type_IDR)"
   ]
  },
  {
   "cell_type": "markdown",
   "id": "5d79eea6",
   "metadata": {},
   "source": [
    "<span style=\"font-size: 20px;\">Select outlier examples and plot the alternative splicing types in radius of gyration outliers: </span>"
   ]
  },
  {
   "cell_type": "code",
   "execution_count": 22,
   "id": "36103801",
   "metadata": {},
   "outputs": [],
   "source": [
    "def calculate_outliters_radius(radius_difference_dic):\n",
    "    radius_difference_list=[]\n",
    "    for radius in radius_difference_dic.values():\n",
    "        radius_difference_list.append(radius[0])\n",
    "    Q1=np.percentile(radius_difference_list,25)\n",
    "    Q3=np.percentile(radius_difference_list,75)\n",
    "    IQR=1.5*(Q3-Q1)\n",
    "    upper_bound=Q3+IQR\n",
    "    lower_bound=Q1-IQR\n",
    "    lower_list=[]\n",
    "    upper_list=[]\n",
    "    for k,v in radius_difference_dic.items():\n",
    "        if v[0]>=upper_bound:\n",
    "            upper_list.append(k)\n",
    "        elif v[0]<=lower_bound:\n",
    "            lower_list.append(k)\n",
    "        else:\n",
    "            continue\n",
    "    return upper_list,lower_list,upper_bound,lower_bound"
   ]
  },
  {
   "cell_type": "code",
   "execution_count": 24,
   "id": "3a29d637",
   "metadata": {},
   "outputs": [],
   "source": [
    "#only for high\n",
    "upper_list,lower_list,upper_bound,lower_bound=calculate_outliters_radius(difference_radius_type)"
   ]
  },
  {
   "cell_type": "code",
   "execution_count": 18,
   "id": "26e89b1f",
   "metadata": {},
   "outputs": [],
   "source": [
    "upper_list,lower_list,upper_bound,lower_bound=calculate_outliters_radius(difference_radius_type_IDR)"
   ]
  },
  {
   "cell_type": "code",
   "execution_count": 44,
   "id": "3ccb22fa",
   "metadata": {},
   "outputs": [],
   "source": [
    "def replace_as_abb_dic(plot_dic):\n",
    "    new_plot_dic={}\n",
    "    as_name_dic={'exon_skipping':'ES',\n",
    "                 'alternative_donor_site':'ADS',\n",
    "                 'alternative_acceptor_site':'AAS',\n",
    "                 'mutually_exclusive_exon':'MXE',\n",
    "                 'intron_retention':'IR',\n",
    "                 'alternative_first_exon':'AFE',\n",
    "                 'alternative_last_exon':'ALE',\n",
    "                 'mutually_exclusive_exon-alternative_first_exon':'MXE-AFE',\n",
    "                 'mutually_exclusive_exon-alternative_last_exon':'MXE-ALE'}\n",
    "    for key in plot_dic.keys():\n",
    "        new_plot_dic[as_name_dic[key]]=plot_dic[key]\n",
    "    return new_plot_dic"
   ]
  },
  {
   "cell_type": "code",
   "execution_count": 35,
   "id": "cee08849",
   "metadata": {},
   "outputs": [],
   "source": [
    "def get_feature(charge_list,charge_dic):\n",
    "    count_feature={}\n",
    "    for isoform in charge_list:\n",
    "        for feature in charge_dic[isoform][1]:\n",
    "            if feature in count_feature.keys():\n",
    "                count_feature[feature]+=1\n",
    "            else:\n",
    "                count_feature[feature]=1\n",
    "    return count_feature"
   ]
  },
  {
   "cell_type": "code",
   "execution_count": 27,
   "id": "515f76c4",
   "metadata": {},
   "outputs": [],
   "source": [
    "#only for high \n",
    "feature_upper=get_feature(upper_list,difference_radius_type)\n",
    "feature_lower=get_feature(lower_list,difference_radius_type)"
   ]
  },
  {
   "cell_type": "code",
   "execution_count": 21,
   "id": "d7c18d69",
   "metadata": {},
   "outputs": [],
   "source": [
    "feature_upper_IDR=get_feature(upper_list,difference_radius_type_IDR)\n",
    "feature_lower_IDR=get_feature(lower_list,difference_radius_type_IDR)"
   ]
  },
  {
   "cell_type": "code",
   "execution_count": 42,
   "id": "99f25d37",
   "metadata": {},
   "outputs": [],
   "source": [
    "def plot_outlier_event_frequent_pair(positive_outlier,negative_outlier,threshold=5,name=None):\n",
    "    selected_positive_outlier_pair = heapq.nlargest(threshold, positive_outlier.items(), key=lambda item: item[1])\n",
    "    selected_negative_outlier_pair = heapq.nlargest(threshold, negative_outlier.items(), key=lambda item: item[1])\n",
    "    sorted_positive_outlier = dict(selected_positive_outlier_pair)\n",
    "    sorted_negative_outlier = dict(selected_negative_outlier_pair)\n",
    "    sorted_positive_outlier = replace_as_abb_dic(sorted_positive_outlier)\n",
    "    sorted_negative_outlier = replace_as_abb_dic(sorted_negative_outlier)\n",
    "    \n",
    "    as_list=list(sorted_positive_outlier.keys())\n",
    "    positive_outlier_list=list(sorted_positive_outlier.values())\n",
    "    #negative_outlier_list=[sorted_negative_outlier[i] for i in as_list]\n",
    "    negative_outlier_list=list(sorted_negative_outlier.values())\n",
    "\n",
    "    bar_width = 0.4\n",
    "    bar1_positions = range(len(as_list))\n",
    "    bar2_positions = [x + bar_width for x in bar1_positions]\n",
    " \n",
    "    plt.bar(bar1_positions, positive_outlier_list, width=bar_width, label='positive',color='#000099')\n",
    "    plt.bar(bar2_positions, negative_outlier_list, width=bar_width, label='negative',color='#FF0000')\n",
    "    \n",
    "    plt.xticks([x + bar_width/2 for x in bar1_positions], as_list,fontsize=14)\n",
    "    plt.legend(fontsize=12)\n",
    "    plt.xlabel('AS event type',fontsize=14)\n",
    "    plt.ylabel('AS event number',fontsize=14)\n",
    "    #plt.yticks(range(0, 310, 60),fontsize=14)\n",
    "    #plt.savefig('radius_as_type_high.png',dpi=600,bbox_inches='tight')\n",
    "    plt.savefig(name+'_type.png',dpi=600,bbox_inches='tight')\n",
    "    plt.show()\n",
    "    return True"
   ]
  },
  {
   "cell_type": "code",
   "execution_count": 31,
   "id": "29f5adc8",
   "metadata": {},
   "outputs": [
    {
     "data": {
      "image/png": "[encoded data removed]",
      "text/plain": [
       "<Figure size 432x288 with 1 Axes>"
      ]
     },
     "metadata": {
      "needs_background": "light"
     },
     "output_type": "display_data"
    },
    {
     "data": {
      "text/plain": [
       "True"
      ]
     },
     "execution_count": 31,
     "metadata": {},
     "output_type": "execute_result"
    }
   ],
   "source": [
    "plot_outlier_event_frequent_pair(feature_upper,feature_lower)"
   ]
  },
  {
   "cell_type": "code",
   "execution_count": 24,
   "id": "5af21c91",
   "metadata": {},
   "outputs": [
    {
     "data": {
      "image/png": "[encoded data removed]",
      "text/plain": [
       "<Figure size 432x288 with 1 Axes>"
      ]
     },
     "metadata": {
      "needs_background": "light"
     },
     "output_type": "display_data"
    },
    {
     "data": {
      "text/plain": [
       "True"
      ]
     },
     "execution_count": 24,
     "metadata": {},
     "output_type": "execute_result"
    }
   ],
   "source": [
    "plot_otlier_event_frequent_pair(feature_upper_IDR,feature_lower_IDR)"
   ]
  },
  {
   "cell_type": "code",
   "execution_count": null,
   "id": "354728b5",
   "metadata": {},
   "outputs": [],
   "source": []
  },
  {
   "cell_type": "code",
   "execution_count": 32,
   "id": "8acdb65b",
   "metadata": {},
   "outputs": [
    {
     "data": {
      "text/plain": [
       "{'alternative_last_exon': 10,\n",
       " 'alternative_acceptor_site': 4,\n",
       " 'exon_skipping': 46,\n",
       " 'alternative_donor_site': 3,\n",
       " 'mutually_exclusive_exon-alternative_last_exon': 7,\n",
       " 'alternative_first_exon': 11,\n",
       " 'intron_retention': 2,\n",
       " 'mutually_exclusive_exon-alternative_first_exon': 2}"
      ]
     },
     "execution_count": 32,
     "metadata": {},
     "output_type": "execute_result"
    }
   ],
   "source": [
    "feature_upper_IDR"
   ]
  },
  {
   "cell_type": "code",
   "execution_count": 33,
   "id": "46ca47af",
   "metadata": {},
   "outputs": [
    {
     "data": {
      "text/plain": [
       "{'exon_skipping': 53,\n",
       " 'alternative_last_exon': 26,\n",
       " 'mutually_exclusive_exon-alternative_first_exon': 17,\n",
       " 'mutually_exclusive_exon-alternative_last_exon': 23,\n",
       " 'alternative_first_exon': 32,\n",
       " 'alternative_acceptor_site': 8,\n",
       " 'mutually_exclusive_exon': 3,\n",
       " 'alternative_donor_site': 3}"
      ]
     },
     "execution_count": 33,
     "metadata": {},
     "output_type": "execute_result"
    }
   ],
   "source": [
    "feature_lower_IDR"
   ]
  },
  {
   "cell_type": "markdown",
   "id": "3eea4d54",
   "metadata": {},
   "source": [
    "<span style=\"font-size: 20px;\">Calculate outlier examples only for non-IDR non-extended helices dataset: </span>"
   ]
  },
  {
   "cell_type": "code",
   "execution_count": 7,
   "id": "03fc397f",
   "metadata": {},
   "outputs": [],
   "source": [
    "non_HE_isoform_path='../data/txt/non_HE_isoform.txt'"
   ]
  },
  {
   "cell_type": "code",
   "execution_count": 8,
   "id": "227de082",
   "metadata": {},
   "outputs": [],
   "source": [
    "non_HE_isoform_list = []\n",
    "with open(non_HE_isoform_path,'r') as f:\n",
    "    for line in f:\n",
    "        line = line.replace('\\n','')\n",
    "        non_HE_isoform_list.append(line)\n",
    "f.close()"
   ]
  },
  {
   "cell_type": "code",
   "execution_count": 9,
   "id": "db7cc309",
   "metadata": {},
   "outputs": [],
   "source": [
    "non_HE_reference_list = []\n",
    "for isoform in non_HE_isoform_list:\n",
    "    non_HE_reference_list.append(isoform.split('-')[0])\n",
    "non_HE_reference_list = list(set(non_HE_reference_list))"
   ]
  },
  {
   "cell_type": "code",
   "execution_count": 10,
   "id": "fabb79f0",
   "metadata": {},
   "outputs": [],
   "source": [
    "non_HE_isoform_summary = isoform_summary[isoform_summary['isoform'].isin(non_HE_isoform_list)]\n",
    "non_HE_isoform_summary = non_HE_isoform_summary.reset_index(drop=True)\n",
    "\n",
    "non_HE_reference_summary = reference_summary[reference_summary['reference'].isin(non_HE_reference_list)]\n",
    "non_HE_reference_summary = non_HE_reference_summary.reset_index(drop=True)"
   ]
  },
  {
   "cell_type": "code",
   "execution_count": 11,
   "id": "b986cee9",
   "metadata": {},
   "outputs": [],
   "source": [
    "radius_non_HE_isoform,radius_non_HE_reference,radius_non_HE_difference=CF.combine_quality_metric(non_HE_reference_summary,non_HE_isoform_summary,radius_reference,radius_isoform,radius_difference)"
   ]
  },
  {
   "cell_type": "code",
   "execution_count": 12,
   "id": "8e519dbe",
   "metadata": {},
   "outputs": [],
   "source": [
    "isoform_radius_non_HE_list=list(radius_non_HE_isoform.values())\n",
    "reference_radius_non_HE_list=list(radius_non_HE_reference.values())\n",
    "statistic, p_value = stats.mannwhitneyu(isoform_radius_non_HE_list,reference_radius_non_HE_list)"
   ]
  },
  {
   "cell_type": "code",
   "execution_count": 14,
   "id": "f994c9d9",
   "metadata": {},
   "outputs": [
    {
     "name": "stdout",
     "output_type": "stream",
     "text": [
      "median radius for isoforms with no isolated helices and IDRs: 21.117558725765527\n",
      "1359\n",
      "median radius for corresponding references 22.213956790145136\n",
      "975\n",
      "pvalue: 9.496509522338083e-09\n"
     ]
    }
   ],
   "source": [
    "#non HE\n",
    "print('median radius for isoforms with no isolated helices and IDRs:',np.median(isoform_radius_non_HE_list))\n",
    "print(len(isoform_radius_non_HE_list))\n",
    "#non HE\n",
    "print('median radius for corresponding references',np.median(reference_radius_non_HE_list))\n",
    "print(len(reference_radius_non_HE_list))\n",
    "#non HE\n",
    "print('pvalue:',p_value)"
   ]
  },
  {
   "cell_type": "code",
   "execution_count": 16,
   "id": "1048da75",
   "metadata": {},
   "outputs": [
    {
     "name": "stderr",
     "output_type": "stream",
     "text": [
      "/tmp/ipykernel_1897406/4223024555.py:16: FutureWarning: \n",
      "\n",
      "Passing `palette` without assigning `hue` is deprecated and will be removed in v0.14.0. Assign the `x` variable to `hue` and set `legend=False` for the same effect.\n",
      "\n",
      "  sns.boxplot(x=\"Class\",y=\"Radius of gyration\",data=plot_df,flierprops = {'marker':'o','markerfacecolor':'black','markersize': 1},notch=True,width=0.8,palette=box_colors,order=['Reference','Isoform'])\n"
     ]
    },
    {
     "data": {
      "image/png": "[encoded data removed]",
      "text/plain": [
       "<Figure size 144x288 with 1 Axes>"
      ]
     },
     "metadata": {
      "needs_background": "light"
     },
     "output_type": "display_data"
    },
    {
     "data": {
      "text/html": [
       "<div>\n",
       "<style scoped>\n",
       "    .dataframe tbody tr th:only-of-type {\n",
       "        vertical-align: middle;\n",
       "    }\n",
       "\n",
       "    .dataframe tbody tr th {\n",
       "        vertical-align: top;\n",
       "    }\n",
       "\n",
       "    .dataframe thead th {\n",
       "        text-align: right;\n",
       "    }\n",
       "</style>\n",
       "<table border=\"1\" class=\"dataframe\">\n",
       "  <thead>\n",
       "    <tr style=\"text-align: right;\">\n",
       "      <th></th>\n",
       "      <th>Class</th>\n",
       "      <th>Radius of gyration</th>\n",
       "    </tr>\n",
       "  </thead>\n",
       "  <tbody>\n",
       "    <tr>\n",
       "      <th>0</th>\n",
       "      <td>Isoform</td>\n",
       "      <td>18.691617</td>\n",
       "    </tr>\n",
       "    <tr>\n",
       "      <th>1</th>\n",
       "      <td>Isoform</td>\n",
       "      <td>22.204355</td>\n",
       "    </tr>\n",
       "    <tr>\n",
       "      <th>2</th>\n",
       "      <td>Isoform</td>\n",
       "      <td>16.710530</td>\n",
       "    </tr>\n",
       "    <tr>\n",
       "      <th>3</th>\n",
       "      <td>Isoform</td>\n",
       "      <td>22.074975</td>\n",
       "    </tr>\n",
       "    <tr>\n",
       "      <th>4</th>\n",
       "      <td>Isoform</td>\n",
       "      <td>19.715596</td>\n",
       "    </tr>\n",
       "    <tr>\n",
       "      <th>...</th>\n",
       "      <td>...</td>\n",
       "      <td>...</td>\n",
       "    </tr>\n",
       "    <tr>\n",
       "      <th>2329</th>\n",
       "      <td>Reference</td>\n",
       "      <td>19.978490</td>\n",
       "    </tr>\n",
       "    <tr>\n",
       "      <th>2330</th>\n",
       "      <td>Reference</td>\n",
       "      <td>21.710834</td>\n",
       "    </tr>\n",
       "    <tr>\n",
       "      <th>2331</th>\n",
       "      <td>Reference</td>\n",
       "      <td>22.213957</td>\n",
       "    </tr>\n",
       "    <tr>\n",
       "      <th>2332</th>\n",
       "      <td>Reference</td>\n",
       "      <td>14.386634</td>\n",
       "    </tr>\n",
       "    <tr>\n",
       "      <th>2333</th>\n",
       "      <td>Reference</td>\n",
       "      <td>19.471702</td>\n",
       "    </tr>\n",
       "  </tbody>\n",
       "</table>\n",
       "<p>2334 rows × 2 columns</p>\n",
       "</div>"
      ],
      "text/plain": [
       "          Class  Radius of gyration\n",
       "0       Isoform           18.691617\n",
       "1       Isoform           22.204355\n",
       "2       Isoform           16.710530\n",
       "3       Isoform           22.074975\n",
       "4       Isoform           19.715596\n",
       "...         ...                 ...\n",
       "2329  Reference           19.978490\n",
       "2330  Reference           21.710834\n",
       "2331  Reference           22.213957\n",
       "2332  Reference           14.386634\n",
       "2333  Reference           19.471702\n",
       "\n",
       "[2334 rows x 2 columns]"
      ]
     },
     "execution_count": 16,
     "metadata": {},
     "output_type": "execute_result"
    }
   ],
   "source": [
    "plot_distribtion_box(radius_non_HE_isoform,radius_non_HE_reference,name='radius_non_HE')"
   ]
  },
  {
   "cell_type": "code",
   "execution_count": 15,
   "id": "e8dcfffb",
   "metadata": {},
   "outputs": [],
   "source": [
    "#select the isoforms with alternative splicing types\n",
    "isoform_radius_non_HE_type,difference_radius_non_HE_type=CF.combine_quality_type(radius_non_HE_isoform,radius_non_HE_difference,as_event)"
   ]
  },
  {
   "cell_type": "code",
   "execution_count": 22,
   "id": "8aee746c",
   "metadata": {},
   "outputs": [
    {
     "name": "stderr",
     "output_type": "stream",
     "text": [
      "/tmp/ipykernel_1897406/1608502661.py:11: FutureWarning: \n",
      "\n",
      "Passing `palette` without assigning `hue` is deprecated and will be removed in v0.14.0. Assign the `x` variable to `hue` and set `legend=False` for the same effect.\n",
      "\n",
      "  sns.boxplot(data=plot_df, x='Class', y='Radius of gyration difference',flierprops = {'marker':'o','markerfacecolor':'black','markersize': 1},notch=True,width=0.8,palette=box_colors)\n"
     ]
    },
    {
     "data": {
      "image/png": "[encoded data removed]",
      "text/plain": [
       "<Figure size 144x288 with 1 Axes>"
      ]
     },
     "metadata": {
      "needs_background": "light"
     },
     "output_type": "display_data"
    },
    {
     "data": {
      "text/html": [
       "<div>\n",
       "<style scoped>\n",
       "    .dataframe tbody tr th:only-of-type {\n",
       "        vertical-align: middle;\n",
       "    }\n",
       "\n",
       "    .dataframe tbody tr th {\n",
       "        vertical-align: top;\n",
       "    }\n",
       "\n",
       "    .dataframe thead th {\n",
       "        text-align: right;\n",
       "    }\n",
       "</style>\n",
       "<table border=\"1\" class=\"dataframe\">\n",
       "  <thead>\n",
       "    <tr style=\"text-align: right;\">\n",
       "      <th></th>\n",
       "      <th>Isoform</th>\n",
       "      <th>Radius of gyration difference</th>\n",
       "      <th>Class</th>\n",
       "    </tr>\n",
       "  </thead>\n",
       "  <tbody>\n",
       "    <tr>\n",
       "      <th>0</th>\n",
       "      <td>Q8TBF2-2</td>\n",
       "      <td>5.464914</td>\n",
       "      <td>Isoform</td>\n",
       "    </tr>\n",
       "    <tr>\n",
       "      <th>1</th>\n",
       "      <td>O76075-2</td>\n",
       "      <td>-3.266924</td>\n",
       "      <td>Isoform</td>\n",
       "    </tr>\n",
       "    <tr>\n",
       "      <th>2</th>\n",
       "      <td>P30038-3</td>\n",
       "      <td>0.048451</td>\n",
       "      <td>Isoform</td>\n",
       "    </tr>\n",
       "    <tr>\n",
       "      <th>3</th>\n",
       "      <td>P30038-2</td>\n",
       "      <td>-2.649359</td>\n",
       "      <td>Isoform</td>\n",
       "    </tr>\n",
       "    <tr>\n",
       "      <th>4</th>\n",
       "      <td>P05186-2</td>\n",
       "      <td>-1.015702</td>\n",
       "      <td>Isoform</td>\n",
       "    </tr>\n",
       "    <tr>\n",
       "      <th>...</th>\n",
       "      <td>...</td>\n",
       "      <td>...</td>\n",
       "      <td>...</td>\n",
       "    </tr>\n",
       "    <tr>\n",
       "      <th>1007</th>\n",
       "      <td>O60880-3</td>\n",
       "      <td>-8.554372</td>\n",
       "      <td>Isoform</td>\n",
       "    </tr>\n",
       "    <tr>\n",
       "      <th>1008</th>\n",
       "      <td>O60880-6</td>\n",
       "      <td>-7.659521</td>\n",
       "      <td>Isoform</td>\n",
       "    </tr>\n",
       "    <tr>\n",
       "      <th>1009</th>\n",
       "      <td>Q8TE69-2</td>\n",
       "      <td>-0.463876</td>\n",
       "      <td>Isoform</td>\n",
       "    </tr>\n",
       "    <tr>\n",
       "      <th>1010</th>\n",
       "      <td>Q8N1B3-2</td>\n",
       "      <td>1.205927</td>\n",
       "      <td>Isoform</td>\n",
       "    </tr>\n",
       "    <tr>\n",
       "      <th>1011</th>\n",
       "      <td>P51854-4</td>\n",
       "      <td>-0.802156</td>\n",
       "      <td>Isoform</td>\n",
       "    </tr>\n",
       "  </tbody>\n",
       "</table>\n",
       "<p>1012 rows × 3 columns</p>\n",
       "</div>"
      ],
      "text/plain": [
       "       Isoform  Radius of gyration difference    Class\n",
       "0     Q8TBF2-2                       5.464914  Isoform\n",
       "1     O76075-2                      -3.266924  Isoform\n",
       "2     P30038-3                       0.048451  Isoform\n",
       "3     P30038-2                      -2.649359  Isoform\n",
       "4     P05186-2                      -1.015702  Isoform\n",
       "...        ...                            ...      ...\n",
       "1007  O60880-3                      -8.554372  Isoform\n",
       "1008  O60880-6                      -7.659521  Isoform\n",
       "1009  Q8TE69-2                      -0.463876  Isoform\n",
       "1010  Q8N1B3-2                       1.205927  Isoform\n",
       "1011  P51854-4                      -0.802156  Isoform\n",
       "\n",
       "[1012 rows x 3 columns]"
      ]
     },
     "execution_count": 22,
     "metadata": {},
     "output_type": "execute_result"
    }
   ],
   "source": [
    "plot_difference_outlier_box(difference_radius_non_HE_type,name='radius_non_HE')"
   ]
  },
  {
   "cell_type": "code",
   "execution_count": 16,
   "id": "8ef22059",
   "metadata": {},
   "outputs": [],
   "source": [
    "difference_non_HE_radius_list = []\n",
    "for isoform in difference_radius_non_HE_type.keys():\n",
    "    difference_non_HE_radius_list.append(difference_radius_non_HE_type[isoform][0])"
   ]
  },
  {
   "cell_type": "code",
   "execution_count": 18,
   "id": "3bb9b76b-71b8-4623-b71a-f3279ba2b734",
   "metadata": {},
   "outputs": [
    {
     "name": "stdout",
     "output_type": "stream",
     "text": [
      "1012\n"
     ]
    }
   ],
   "source": [
    "print(len(difference_non_HE_radius_list))"
   ]
  },
  {
   "cell_type": "code",
   "execution_count": 17,
   "id": "6f4ea2b9",
   "metadata": {},
   "outputs": [
    {
     "name": "stdout",
     "output_type": "stream",
     "text": [
      "median of non HE -0.4944270016983747\n"
     ]
    }
   ],
   "source": [
    "print('median of non HE',np.median(difference_non_HE_radius_list))"
   ]
  },
  {
   "cell_type": "code",
   "execution_count": 31,
   "id": "801f6c22",
   "metadata": {},
   "outputs": [],
   "source": [
    "upper_non_HE_list,lower_non_HE_list,upper_non_HE_bound,lower_non_HE_bound = calculate_outliters_radius(difference_radius_non_HE_type)"
   ]
  },
  {
   "cell_type": "code",
   "execution_count": 36,
   "id": "0d20e5ad",
   "metadata": {},
   "outputs": [],
   "source": [
    "feature_non_HE_upper=get_feature(upper_non_HE_list,difference_radius_non_HE_type)\n",
    "feature_non_HE_lower=get_feature(lower_non_HE_list,difference_radius_non_HE_type)"
   ]
  },
  {
   "cell_type": "code",
   "execution_count": 45,
   "id": "50f29082",
   "metadata": {},
   "outputs": [
    {
     "data": {
      "image/png": "[encoded data removed]",
      "text/plain": [
       "<Figure size 432x288 with 1 Axes>"
      ]
     },
     "metadata": {
      "needs_background": "light"
     },
     "output_type": "display_data"
    },
    {
     "data": {
      "text/plain": [
       "True"
      ]
     },
     "execution_count": 45,
     "metadata": {},
     "output_type": "execute_result"
    }
   ],
   "source": [
    "plot_outlier_event_frequent_pair(feature_non_HE_upper,feature_non_HE_lower,name='non_HE')"
   ]
  },
  {
   "cell_type": "code",
   "execution_count": 12,
   "id": "6c751f0b",
   "metadata": {},
   "outputs": [],
   "source": [
    "non_HE_Q1=np.percentile(list(radius_non_HE_difference.values()),25)\n",
    "non_HE_Q3=np.percentile(list(radius_non_HE_difference.values()),75)\n",
    "non_HE_IQR=1.5*(non_HE_Q3-non_HE_Q1)\n",
    "non_HE_upper_bound=non_HE_Q3+non_HE_IQR\n",
    "non_HE_lower_bound=non_HE_Q1-non_HE_IQR\n",
    "\n",
    "non_HE_upper_list=[]\n",
    "non_HE_lower_list=[]\n",
    "for k,v in radius_non_HE_difference.items():\n",
    "    if v>=non_HE_upper_bound:\n",
    "        non_HE_upper_list.append(k)\n",
    "    elif v<=non_HE_lower_bound:\n",
    "        non_HE_lower_list.append(k)\n",
    "    else:\n",
    "        continue"
   ]
  },
  {
   "cell_type": "code",
   "execution_count": null,
   "id": "cd96acd3",
   "metadata": {},
   "outputs": [],
   "source": []
  }
 ],
 "metadata": {
  "kernelspec": {
   "display_name": "Python 3 (ipykernel)",
   "language": "python",
   "name": "python3"
  },
  "language_info": {
   "codemirror_mode": {
    "name": "ipython",
    "version": 3
   },
   "file_extension": ".py",
   "mimetype": "text/x-python",
   "name": "python",
   "nbconvert_exporter": "python",
   "pygments_lexer": "ipython3",
   "version": "3.10.9"
  }
 },
 "nbformat": 4,
 "nbformat_minor": 5
}
