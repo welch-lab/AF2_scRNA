{
 "cells": [
  {
   "cell_type": "code",
   "execution_count": 1,
   "id": "3818a1be",
   "metadata": {},
   "outputs": [],
   "source": [
    "import anndata\n",
    "from scipy.sparse import csr_matrix, lil_matrix\n",
    "from sklearn.preprocessing import normalize\n",
    "import numpy as np\n",
    "import pandas as pd\n",
    "import json"
   ]
  },
  {
   "cell_type": "code",
   "execution_count": 2,
   "id": "cd3e461a",
   "metadata": {},
   "outputs": [],
   "source": [
    "t2g_file='/home/yuxuans/single_cell/t2g.txt'\n",
    "all_cell_path='/nfs/turbo/umms-welchjd/yuxuans/single_cell/final/original/all_cell.h5ad'\n",
    "reference_cell_path='/nfs/turbo/umms-welchjd/yuxuans/single_cell/reference/reference_anndata.h5ad'\n",
    "reference_genecode_path='/home/yuxuans/alternative_splicing/as_type/file/generate_file/selected_reference_transcript_dic.json'\n",
    "isoform_genecode_path='/home/yuxuans/alternative_splicing/as_type/file/generate_file/selected_isoform_transcript_dic.json'\n",
    "reference_chess_path='/home/yuxuans/alternative_splicing/chess/as_type/generate_file/json/reference_position_chess.json'\n",
    "isoform_chess_path='/home/yuxuans/alternative_splicing/chess/as_type/generate_file/json/isoform_position_chess.json'"
   ]
  },
  {
   "cell_type": "code",
   "execution_count": 3,
   "id": "16302378",
   "metadata": {},
   "outputs": [],
   "source": [
    "all_cell=anndata.read(all_cell_path)"
   ]
  },
  {
   "cell_type": "code",
   "execution_count": 4,
   "id": "138afa16",
   "metadata": {},
   "outputs": [
    {
     "name": "stderr",
     "output_type": "stream",
     "text": [
      "/home/yuxuans/.local/lib/python3.9/site-packages/anndata/_core/anndata.py:1828: UserWarning: Observation names are not unique. To make them unique, call `.obs_names_make_unique`.\n",
      "  utils.warn_names_duplicates(\"obs\")\n"
     ]
    }
   ],
   "source": [
    "reference_cell=anndata.read(reference_cell_path)"
   ]
  },
  {
   "cell_type": "markdown",
   "id": "fea21573",
   "metadata": {},
   "source": [
    "# reference: \n",
    "Booeshaghi, A. Sina, et al. \"Isoform cell-type specificity in the mouse primary motor cortex.\" Nature 598.7879 (2021): 195-199.\n",
    "https://github.com/pachterlab/BYVSTZP_2020"
   ]
  },
  {
   "cell_type": "code",
   "execution_count": 5,
   "id": "6fe7e6d9",
   "metadata": {},
   "outputs": [],
   "source": [
    "#add compartment,tissue,cell type information for each cell\n",
    "def add_cell_feature(all_anndata,reference_anndata,feature):\n",
    "    all_anndata.obs[feature]=None\n",
    "    for index in range(len(all_anndata.obs)):\n",
    "        cell_id=all_anndata.obs.index[index]\n",
    "        if cell_id in reference_anndata.obs.index:\n",
    "            #print(cell_id)\n",
    "            if type(reference_anndata.obs[feature][cell_id])!=str:\n",
    "                all_anndata.obs[feature][cell_id]=reference_anndata.obs[feature][cell_id][0]\n",
    "                #print(all_anndata.obs[feature][cell_id])\n",
    "            else:\n",
    "                all_anndata.obs[feature][cell_id]=reference_anndata.obs[feature][cell_id]\n",
    "        elif cell_id+'.homo.gencode.v30.ERCC.chrM' in reference_anndata.obs.index:\n",
    "            if type(reference_anndata.obs[feature][cell_id+'.homo.gencode.v30.ERCC.chrM'])!=str:\n",
    "                all_anndata.obs[feature][cell_id]=reference_anndata.obs[feature][cell_id+'.homo.gencode.v30.ERCC.chrM'][0]\n",
    "            else:\n",
    "                all_anndata.obs[feature][cell_id]=reference_anndata.obs[feature][cell_id+'.homo.gencode.v30.ERCC.chrM']\n",
    "    return all_anndata"
   ]
  },
  {
   "cell_type": "code",
   "execution_count": 6,
   "id": "d8bf1f33",
   "metadata": {},
   "outputs": [],
   "source": [
    "all_cell=add_cell_feature(all_cell,reference_cell,feature='compartment')\n",
    "all_cell=add_cell_feature(all_cell,reference_cell,feature='organ_tissue')\n",
    "all_cell=add_cell_feature(all_cell,reference_cell,feature='cell_ontology_class')\n",
    "all_cell=add_cell_feature(all_cell,reference_cell,feature='free_annotation')"
   ]
  },
  {
   "cell_type": "code",
   "execution_count": 7,
   "id": "03f617ab",
   "metadata": {},
   "outputs": [],
   "source": [
    "#only select cell with cell types\n",
    "def select_annotated_cell(all_anndata):\n",
    "    annotated_cell_list=[]\n",
    "    for index in range(len(all_anndata.obs)):\n",
    "        cell_id=all_anndata.obs.index[index]\n",
    "        if all_anndata.obs['cell_ontology_class'][index]!=None:\n",
    "            if cell_id not in annotated_cell_list:\n",
    "                annotated_cell_list.append(cell_id)\n",
    "    annotated_cell = all_anndata[annotated_cell_list,:]\n",
    "    return annotated_cell\n",
    "all_cell=select_annotated_cell(all_cell)"
   ]
  },
  {
   "cell_type": "code",
   "execution_count": 8,
   "id": "fd6058b2",
   "metadata": {},
   "outputs": [
    {
     "name": "stderr",
     "output_type": "stream",
     "text": [
      "/tmp/ipykernel_1912092/160974847.py:4: ImplicitModificationWarning: Trying to modify attribute `.var` of view, initializing view as actual.\n",
      "  all_anndata.var['gene_ID']=None\n"
     ]
    }
   ],
   "source": [
    "#add gene name, ID, transcript length\n",
    "def add_gene(all_anndata,t2g_file):\n",
    "    t2g=pd.read_csv(t2g_file,sep='\\t',header=None,names=['gene ID','gene name','genecode_identifier','chromosome number','start position','end position','strand'])\n",
    "    all_anndata.var['gene_ID']=None\n",
    "    all_anndata.var['gene_name']=None\n",
    "    all_anndata.var['length']=None\n",
    "    for index in range(len(all_anndata.var.index)):\n",
    "        transcript_id=all_anndata.var.index[index]\n",
    "        all_anndata.var['gene_ID'][transcript_id]=t2g['gene ID'][transcript_id]\n",
    "        all_anndata.var['gene_name'][transcript_id]=t2g['gene name'][transcript_id] \n",
    "        start_position=t2g['start position'][transcript_id]\n",
    "        end_position=t2g['end position'][transcript_id]\n",
    "        length=int(end_position)-int(start_position)+1\n",
    "        all_anndata.var['length'][transcript_id]=str(length)\n",
    "    return all_anndata\n",
    "all_cell=add_gene(all_cell,t2g_file)"
   ]
  },
  {
   "cell_type": "code",
   "execution_count": 9,
   "id": "ff2112b4",
   "metadata": {},
   "outputs": [],
   "source": [
    "#add the information about the reference/isoform class\n",
    "def add_class_genecode(all_anndata,index,new_isoform_genecode,new_reference_genecode):\n",
    "    transcript=all_anndata.var.index[index].split('.')[0]\n",
    "    if transcript in new_isoform_genecode.keys():\n",
    "        all_anndata.var['class'][index]='isoform'\n",
    "        all_anndata.var['uniprot'][index]=new_isoform_genecode[transcript]\n",
    "    elif transcript in new_reference_genecode.keys():\n",
    "        all_anndata.var['class'][index]='reference'\n",
    "        all_anndata.var['uniprot'][index]=new_reference_genecode[transcript]\n",
    "    return all_anndata\n",
    "def add_class_chess(all_anndata,index,isoform_chess,reference_chess):\n",
    "    if all_anndata.var.index[index] in isoform_chess.keys():\n",
    "        all_anndata.var['class'][index]='isoform'\n",
    "    elif all_anndata.var.index[index] in reference_chess.keys():\n",
    "        all_anndata.var['class'][index]='reference'\n",
    "    return all_anndata"
   ]
  },
  {
   "cell_type": "code",
   "execution_count": 10,
   "id": "4580f68f",
   "metadata": {},
   "outputs": [],
   "source": [
    "def add_class(all_anndata,isoform_genecode_path,reference_genecode_path,isoform_chess_path,reference_chess_path):\n",
    "    with open(isoform_genecode_path,'r') as load_f:\n",
    "        isoform_genecode=json.load(load_f)\n",
    "    with open(reference_genecode_path,'r') as load_f:\n",
    "        reference_genecode=json.load(load_f)\n",
    "    with open(isoform_chess_path,'r') as load_f:\n",
    "        isoform_chess=json.load(load_f)\n",
    "    with open(reference_chess_path,'r') as load_f:\n",
    "        reference_chess=json.load(load_f)\n",
    "    all_anndata.var['class']='na'\n",
    "    all_anndata.var['uniprot']='na'\n",
    "    new_isoform_genecode={y:x for x,y in isoform_genecode.items()}\n",
    "    new_reference_genecode={y:x for x,y in reference_genecode.items()}\n",
    "    for index in range(len(all_anndata.var)):\n",
    "        if all_anndata.var.index[index][:3]=='CHS':\n",
    "            all_anndata=add_class_chess(all_anndata,index,isoform_chess,reference_chess)\n",
    "        else:\n",
    "            all_anndata=add_class_genecode(all_anndata,index,new_isoform_genecode,new_reference_genecode)\n",
    "    return all_anndata"
   ]
  },
  {
   "cell_type": "code",
   "execution_count": 11,
   "id": "353c87f4",
   "metadata": {},
   "outputs": [],
   "source": [
    "all_cell=add_class(all_cell,isoform_genecode_path,reference_genecode_path,isoform_chess_path,reference_chess_path)"
   ]
  },
  {
   "cell_type": "code",
   "execution_count": 12,
   "id": "2f976e56",
   "metadata": {},
   "outputs": [],
   "source": [
    "#seperate them into genecode and chess\n",
    "def separate_transcript(all_anndata):\n",
    "    genecode_list=[]\n",
    "    chess_list=[]\n",
    "    for index in range(len(all_anndata.var)):\n",
    "        if all_anndata.var.index[index][:3]=='CHS':\n",
    "            chess_list.append(all_anndata.var.index[index])\n",
    "        else:\n",
    "            genecode_list.append(all_anndata.var.index[index])\n",
    "    genecode_anndata=all_anndata[:,genecode_list]\n",
    "    chess_anndata=all_anndata[:,chess_list]\n",
    "    return genecode_anndata,chess_anndata\n",
    "genecode_cell,chess_cell=separate_transcript(all_cell)"
   ]
  },
  {
   "cell_type": "code",
   "execution_count": 13,
   "id": "c53aae85",
   "metadata": {},
   "outputs": [],
   "source": [
    "#normalize\n",
    "def normalization(anndata):\n",
    "    raw = anndata.X.todense()\n",
    "    anndata.var['length']=anndata.var['length'].astype(int)\n",
    "    scaled = raw/anndata.var.length.values\n",
    "    anndata.layers[\"norm\"] = csr_matrix(normalize(scaled, norm='l1', axis=1)*1000000)\n",
    "    anndata.layers[\"log1p\"] = csr_matrix(np.log1p(anndata.layers[\"norm\"]))\n",
    "    return anndata"
   ]
  },
  {
   "cell_type": "code",
   "execution_count": 14,
   "id": "dbcd6b85",
   "metadata": {},
   "outputs": [
    {
     "name": "stderr",
     "output_type": "stream",
     "text": [
      "/tmp/ipykernel_1912092/2226231581.py:4: ImplicitModificationWarning: Trying to modify attribute `.var` of view, initializing view as actual.\n",
      "  anndata.var['length']=anndata.var['length'].astype(int)\n",
      "/home/yuxuans/.local/lib/python3.9/site-packages/sklearn/utils/validation.py:727: FutureWarning: np.matrix usage is deprecated in 1.0 and will raise a TypeError in 1.2. Please convert to a numpy array with np.asarray. For more information see: https://numpy.org/doc/stable/reference/generated/numpy.matrix.html\n",
      "  warnings.warn(\n"
     ]
    }
   ],
   "source": [
    "normed_genecode_cell=normalization(genecode_cell)"
   ]
  },
  {
   "cell_type": "code",
   "execution_count": 16,
   "id": "61032de3",
   "metadata": {},
   "outputs": [],
   "source": [
    "#normed_genecode_cell.write('/nfs/turbo/umms-welchjd/yuxuans/single_cell/final/normed/normed_genecode.h5ad')"
   ]
  },
  {
   "cell_type": "code",
   "execution_count": 15,
   "id": "eee88757",
   "metadata": {},
   "outputs": [
    {
     "name": "stderr",
     "output_type": "stream",
     "text": [
      "/tmp/ipykernel_1912092/2226231581.py:4: ImplicitModificationWarning: Trying to modify attribute `.var` of view, initializing view as actual.\n",
      "  anndata.var['length']=anndata.var['length'].astype(int)\n",
      "/home/yuxuans/.local/lib/python3.9/site-packages/sklearn/utils/validation.py:727: FutureWarning: np.matrix usage is deprecated in 1.0 and will raise a TypeError in 1.2. Please convert to a numpy array with np.asarray. For more information see: https://numpy.org/doc/stable/reference/generated/numpy.matrix.html\n",
      "  warnings.warn(\n"
     ]
    }
   ],
   "source": [
    "normed_chess_cell=normalization(chess_cell)"
   ]
  },
  {
   "cell_type": "code",
   "execution_count": 17,
   "id": "72365101",
   "metadata": {},
   "outputs": [],
   "source": [
    "#normed_chess_cell.write('/nfs/turbo/umms-welchjd/yuxuans/single_cell/final/normed/normed_chess.h5ad')"
   ]
  },
  {
   "cell_type": "code",
   "execution_count": 16,
   "id": "8fe9627e",
   "metadata": {},
   "outputs": [],
   "source": [
    "#subset the data where we modeled the structures\n",
    "normed_swissport_cell=normed_genecode_cell[:,normed_genecode_cell.var['uniprot']!='na']"
   ]
  },
  {
   "cell_type": "code",
   "execution_count": 18,
   "id": "05eef804",
   "metadata": {},
   "outputs": [
    {
     "name": "stderr",
     "output_type": "stream",
     "text": [
      "/home/yuxuans/.local/lib/python3.9/site-packages/anndata/_core/anndata.py:1235: ImplicitModificationWarning: Trying to modify attribute `.obs` of view, initializing view as actual.\n",
      "  df[key] = c\n",
      "/home/yuxuans/.local/lib/python3.9/site-packages/anndata/_core/anndata.py:1235: ImplicitModificationWarning: Trying to modify attribute `.obs` of view, initializing view as actual.\n",
      "  df[key] = c\n",
      "/home/yuxuans/.local/lib/python3.9/site-packages/anndata/_core/anndata.py:1235: ImplicitModificationWarning: Trying to modify attribute `.obs` of view, initializing view as actual.\n",
      "  df[key] = c\n",
      "/home/yuxuans/.local/lib/python3.9/site-packages/anndata/_core/anndata.py:1235: ImplicitModificationWarning: Trying to modify attribute `.var` of view, initializing view as actual.\n",
      "  df[key] = c\n",
      "/home/yuxuans/.local/lib/python3.9/site-packages/anndata/_core/anndata.py:1235: ImplicitModificationWarning: Trying to modify attribute `.var` of view, initializing view as actual.\n",
      "  df[key] = c\n",
      "/home/yuxuans/.local/lib/python3.9/site-packages/anndata/_core/anndata.py:1235: ImplicitModificationWarning: Trying to modify attribute `.var` of view, initializing view as actual.\n",
      "  df[key] = c\n"
     ]
    }
   ],
   "source": [
    "#save the h5ad file\n",
    "#normed_swissport_cell.write('normed_swiss.h5ad')"
   ]
  },
  {
   "cell_type": "code",
   "execution_count": null,
   "id": "6079ffbb",
   "metadata": {},
   "outputs": [],
   "source": []
  },
  {
   "cell_type": "code",
   "execution_count": null,
   "id": "dbe2594a",
   "metadata": {},
   "outputs": [],
   "source": []
  }
 ],
 "metadata": {
  "kernelspec": {
   "display_name": "Python 3 (ipykernel)",
   "language": "python",
   "name": "python3"
  },
  "language_info": {
   "codemirror_mode": {
    "name": "ipython",
    "version": 3
   },
   "file_extension": ".py",
   "mimetype": "text/x-python",
   "name": "python",
   "nbconvert_exporter": "python",
   "pygments_lexer": "ipython3",
   "version": "3.9.7"
  }
 },
 "nbformat": 4,
 "nbformat_minor": 5
}
