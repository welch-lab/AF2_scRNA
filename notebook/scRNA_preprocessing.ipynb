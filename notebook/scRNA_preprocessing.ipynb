{
 "cells": [
  {
   "cell_type": "code",
   "execution_count": 1,
   "id": "3818a1be",
   "metadata": {},
   "outputs": [],
   "source": [
    "import anndata\n",
    "from scipy.sparse import csr_matrix, lil_matrix\n",
    "from sklearn.preprocessing import normalize\n",
    "import numpy as np\n",
    "import pandas as pd\n",
    "import json"
   ]
  },
  {
   "cell_type": "markdown",
   "id": "fea21573",
   "metadata": {},
   "source": [
    "# reference: \n",
    "Booeshaghi, A. Sina, et al. \"Isoform cell-type specificity in the mouse primary motor cortex.\" Nature 598.7879 (2021): 195-199.\n",
    "https://github.com/pachterlab/BYVSTZP_2020"
   ]
  },
  {
   "cell_type": "code",
   "execution_count": 13,
   "id": "c53aae85",
   "metadata": {},
   "outputs": [],
   "source": [
    "#normalize\n",
    "def normalization(anndata):\n",
    "    raw = anndata.X.todense()\n",
    "    anndata.var['length']=anndata.var['length'].astype(int)\n",
    "    scaled = raw/anndata.var.length.values\n",
    "    anndata.layers[\"norm\"] = csr_matrix(normalize(scaled, norm='l1', axis=1)*1000000)\n",
    "    anndata.layers[\"log1p\"] = csr_matrix(np.log1p(anndata.layers[\"norm\"]))\n",
    "    return anndata"
   ]
  },
  {
   "cell_type": "code",
   "execution_count": 14,
   "id": "dbcd6b85",
   "metadata": {},
   "outputs": [
    {
     "name": "stderr",
     "output_type": "stream",
     "text": [
      "/tmp/ipykernel_1912092/2226231581.py:4: ImplicitModificationWarning: Trying to modify attribute `.var` of view, initializing view as actual.\n",
      "  anndata.var['length']=anndata.var['length'].astype(int)\n",
      "/home/yuxuans/.local/lib/python3.9/site-packages/sklearn/utils/validation.py:727: FutureWarning: np.matrix usage is deprecated in 1.0 and will raise a TypeError in 1.2. Please convert to a numpy array with np.asarray. For more information see: https://numpy.org/doc/stable/reference/generated/numpy.matrix.html\n",
      "  warnings.warn(\n"
     ]
    }
   ],
   "source": [
    "normed_genecode_cell=normalization(genecode_cell)"
   ]
  },
  {
   "cell_type": "code",
   "execution_count": 15,
   "id": "eee88757",
   "metadata": {},
   "outputs": [
    {
     "name": "stderr",
     "output_type": "stream",
     "text": [
      "/tmp/ipykernel_1912092/2226231581.py:4: ImplicitModificationWarning: Trying to modify attribute `.var` of view, initializing view as actual.\n",
      "  anndata.var['length']=anndata.var['length'].astype(int)\n",
      "/home/yuxuans/.local/lib/python3.9/site-packages/sklearn/utils/validation.py:727: FutureWarning: np.matrix usage is deprecated in 1.0 and will raise a TypeError in 1.2. Please convert to a numpy array with np.asarray. For more information see: https://numpy.org/doc/stable/reference/generated/numpy.matrix.html\n",
      "  warnings.warn(\n"
     ]
    }
   ],
   "source": [
    "normed_chess_cell=normalization(chess_cell)"
   ]
  },
  {
   "cell_type": "code",
   "execution_count": 16,
   "id": "8fe9627e",
   "metadata": {},
   "outputs": [],
   "source": [
    "#subset the data where we modeled the structures\n",
    "normed_swissport_cell=normed_genecode_cell[:,normed_genecode_cell.var['uniprot']!='na']"
   ]
  }
 ],
 "metadata": {
  "kernelspec": {
   "display_name": "Python 3 (ipykernel)",
   "language": "python",
   "name": "python3"
  },
  "language_info": {
   "codemirror_mode": {
    "name": "ipython",
    "version": 3
   },
   "file_extension": ".py",
   "mimetype": "text/x-python",
   "name": "python",
   "nbconvert_exporter": "python",
   "pygments_lexer": "ipython3",
   "version": "3.9.7"
  }
 },
 "nbformat": 4,
 "nbformat_minor": 5
}
