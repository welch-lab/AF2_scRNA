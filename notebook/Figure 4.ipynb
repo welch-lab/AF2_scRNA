{
 "cells": [
  {
   "cell_type": "code",
   "execution_count": 1,
   "id": "d7fff530",
   "metadata": {},
   "outputs": [],
   "source": [
    "import pandas as pd\n",
    "from scipy import stats\n",
    "import scipy.stats as sc\n",
    "import seaborn as sns\n",
    "import matplotlib.pyplot as plt\n",
    "import json\n",
    "import numpy as np\n",
    "import heapq\n",
    "\n",
    "import sys\n",
    "sys.path.append('../script')\n",
    "import common_function as CF"
   ]
  },
  {
   "cell_type": "code",
   "execution_count": 2,
   "id": "c213d147",
   "metadata": {},
   "outputs": [],
   "source": [
    "#path for summary of surface charge\n",
    "reference_surface_charge_path='../data/json/reference_surface_charge.json'\n",
    "isoform_surface_charge_path='../data/json/isoform_surface_charge.json'\n",
    "difference_surface_charge_path='../data/json/difference_surface_charge.json'\n",
    "#path for as event\n",
    "plddt_IDR_isoform_path = '../data/json/plddt_IDR_isoform.json'\n",
    "plddt_IDR_reference_path = '../data/json/plddt_IDR_reference.json'\n",
    "as_event_path='../data/json/as_event.json'\n",
    "reference_summary_path = '../data/csv/summary_reference.csv'\n",
    "isoform_summary_path = '../data/csv/summary_isoform.csv'"
   ]
  },
  {
   "cell_type": "code",
   "execution_count": 3,
   "id": "c4b15196",
   "metadata": {},
   "outputs": [],
   "source": [
    "def load_file_json(path):\n",
    "    with open(path,'r') as load_f:\n",
    "        file=json.load(load_f)\n",
    "    return file"
   ]
  },
  {
   "cell_type": "markdown",
   "id": "1045275e",
   "metadata": {},
   "source": [
    "<span style=\"font-size: 20px;\">Plot surface charge distribution: </span>"
   ]
  },
  {
   "cell_type": "code",
   "execution_count": 4,
   "id": "538ef543",
   "metadata": {},
   "outputs": [],
   "source": [
    "isoform_surface_charge=load_file_json(isoform_surface_charge_path)\n",
    "reference_surface_charge=load_file_json(reference_surface_charge_path)\n",
    "difference_surface_charge=load_file_json(difference_surface_charge_path)\n",
    "plddt_IDR_isoform = load_file_json(plddt_IDR_isoform_path)\n",
    "plddt_IDR_reference = load_file_json(plddt_IDR_reference_path)\n",
    "as_event=load_file_json(as_event_path)\n",
    "reference_summary=pd.read_csv(reference_summary_path)\n",
    "isoform_summary=pd.read_csv(isoform_summary_path)"
   ]
  },
  {
   "cell_type": "code",
   "execution_count": 5,
   "id": "de2254b7",
   "metadata": {},
   "outputs": [],
   "source": [
    "reference_high_confident = reference_summary[reference_summary['plddt']>=70.0]\n",
    "isoform_high_confident = isoform_summary[isoform_summary['plddt']>=70.0]"
   ]
  },
  {
   "cell_type": "code",
   "execution_count": 6,
   "id": "1a878eed",
   "metadata": {},
   "outputs": [],
   "source": [
    "reference_high = reference_summary[reference_summary['plddt']>=90.0]\n",
    "isoform_high = isoform_summary[isoform_summary['plddt']>=90.0]"
   ]
  },
  {
   "cell_type": "code",
   "execution_count": 24,
   "id": "7d9b94a7",
   "metadata": {},
   "outputs": [],
   "source": [
    "#select only high and confident structures\n",
    "#isoform_surface_charge,reference_surface_charge,difference_surface_charge=CF.combine_quality_metric(reference_high_confident,isoform_high_confident,reference_surface_charge,isoform_surface_charge,difference_surface_charge)"
   ]
  },
  {
   "cell_type": "code",
   "execution_count": 13,
   "id": "62087855",
   "metadata": {},
   "outputs": [],
   "source": [
    "#high and confident\n",
    "charge_isoform,charge_reference,charge_difference=CF.combine_quality_metric(reference_high_confident,isoform_high_confident,reference_surface_charge,isoform_surface_charge,difference_surface_charge)\n",
    "isoform_charge_list=list(charge_isoform.values())\n",
    "reference_charge_list=list(charge_reference.values())\n",
    "statistic, p_value = stats.mannwhitneyu(isoform_charge_list,reference_charge_list)"
   ]
  },
  {
   "cell_type": "code",
   "execution_count": 14,
   "id": "c86a3f7f",
   "metadata": {},
   "outputs": [
    {
     "name": "stdout",
     "output_type": "stream",
     "text": [
      "high and confident median charge for isoform: 1.0\n",
      "high and confident median charge for reference: 0.9999999999999978\n",
      "high and confident pvalue: 0.3038219735024714\n"
     ]
    }
   ],
   "source": [
    "#high and confident\n",
    "print('high and confident median charge for isoform:',np.median(isoform_charge_list))\n",
    "\n",
    "#high and confident\n",
    "print('high and confident median charge for reference:',np.median(reference_charge_list))\n",
    "\n",
    "#high and confident\n",
    "print('high and confident pvalue:',p_value)"
   ]
  },
  {
   "cell_type": "code",
   "execution_count": 17,
   "id": "908ea51f",
   "metadata": {},
   "outputs": [],
   "source": [
    "#high only\n",
    "charge_isoform,charge_reference,charge_difference=CF.combine_quality_metric(reference_high,isoform_high,reference_surface_charge,isoform_surface_charge,difference_surface_charge)\n",
    "isoform_charge_list=list(charge_isoform.values())\n",
    "reference_charge_list=list(charge_reference.values())\n",
    "statistic, p_value = stats.mannwhitneyu(isoform_charge_list,reference_charge_list)"
   ]
  },
  {
   "cell_type": "code",
   "execution_count": 18,
   "id": "06246e69",
   "metadata": {},
   "outputs": [
    {
     "name": "stdout",
     "output_type": "stream",
     "text": [
      "high median charge for isoform: 0.0\n",
      "high median charge for reference: 0.9999999999999969\n",
      "high pvalue: 0.037178443442739253\n"
     ]
    }
   ],
   "source": [
    "#high only\n",
    "print('high median charge for isoform:',np.median(isoform_charge_list))\n",
    "\n",
    "#high only\n",
    "print('high median charge for reference:',np.median(reference_charge_list))\n",
    "\n",
    "#high only\n",
    "print('high pvalue:',p_value)"
   ]
  },
  {
   "cell_type": "code",
   "execution_count": 28,
   "id": "e1557fc6",
   "metadata": {},
   "outputs": [],
   "source": [
    "#plot distribtion\n",
    "def plot_distribtion_box(isoform_charge,reference_charge,outliers = True, name=None):\n",
    "    plot_df=pd.DataFrame(columns=['Class','Surface charge'])\n",
    "    index=0\n",
    "    surface_charge=[]\n",
    "    for charge in list(isoform_charge.values()):\n",
    "        surface_charge.append(charge)\n",
    "    for charge in list(reference_charge.values()):\n",
    "        surface_charge.append(charge)\n",
    "    plot_df['Class']=['Isoform']*len(isoform_charge)+['Reference']*len(reference_charge)\n",
    "    plot_df['Surface charge']=surface_charge\n",
    "    plt.figure(figsize=(2,4))\n",
    "    box_colors = ['#F3BF70','#25D9F5']\n",
    "    if outliers==False:\n",
    "        sns.boxplot(x=\"Class\",y=\"Surface charge\",data=plot_df,palette=\"Set3\",showfliers = False,notch=True)\n",
    "    else:  \n",
    "        sns.boxplot(x=\"Class\",y=\"Surface charge\",data=plot_df,flierprops = {'marker':'o','markerfacecolor':'black','markersize': 1},notch=True,width=0.8,palette=box_colors,order=['Reference','Isoform'])\n",
    "    plt.xlabel('')    \n",
    "    plt.ylabel(\"Surface charge\",fontsize=12)\n",
    "    plt.xticks(fontsize=12)\n",
    "    #plt.yticks(range(-60, 45, 30),fontsize=12)\n",
    "    plt.gca().spines['right'].set_visible(False)\n",
    "    plt.gca().spines['top'].set_visible(False)\n",
    "    plt.savefig(name+'_distribution.png',dpi=600,bbox_inches='tight')\n",
    "    plt.show()\n",
    "    return plot_df"
   ]
  },
  {
   "cell_type": "code",
   "execution_count": 10,
   "id": "25bb36de",
   "metadata": {},
   "outputs": [],
   "source": [
    "#select only high and confident structures and also 0 IDR stuructres\n",
    "plddt_IDR_isoform_list=[]\n",
    "for i in plddt_IDR_isoform:\n",
    "    reference = i.split('-')[0]\n",
    "    if plddt_IDR_isoform[i] == [] and reference in plddt_IDR_reference.keys():\n",
    "        if plddt_IDR_reference[reference]==[]:\n",
    "            plddt_IDR_isoform_list.append(i)\n",
    "\n",
    "plddt_IDR_reference_list = list(set([i.split('-')[0] for i in plddt_IDR_isoform_list]))\n",
    "\n",
    "\n",
    "plddt_IDR_reference_charge = {}\n",
    "plddt_IDR_isoform_charge = {}\n",
    "plddt_IDR_isoform_charge_diff = {}\n",
    "\n",
    "for isoform in plddt_IDR_isoform_list:\n",
    "    if isoform in charge_difference.keys():\n",
    "        reference = isoform.split('-')[0]\n",
    "        plddt_IDR_isoform_charge[isoform] = charge_isoform[isoform]\n",
    "        plddt_IDR_reference_charge[reference] = charge_reference[reference]\n",
    "        plddt_IDR_isoform_charge_diff[isoform] = charge_difference[isoform]\n",
    "    else:\n",
    "        print(isoform)"
   ]
  },
  {
   "cell_type": "code",
   "execution_count": 11,
   "id": "e7d990be",
   "metadata": {},
   "outputs": [
    {
     "data": {
      "text/plain": [
       "7024"
      ]
     },
     "execution_count": 11,
     "metadata": {},
     "output_type": "execute_result"
    }
   ],
   "source": [
    "len(charge_isoform)"
   ]
  },
  {
   "cell_type": "code",
   "execution_count": 17,
   "id": "1e40d872",
   "metadata": {},
   "outputs": [
    {
     "name": "stderr",
     "output_type": "stream",
     "text": [
      "/tmp/ipykernel_2775640/2851790841.py:17: FutureWarning: \n",
      "\n",
      "Passing `palette` without assigning `hue` is deprecated and will be removed in v0.14.0. Assign the `x` variable to `hue` and set `legend=False` for the same effect.\n",
      "\n",
      "  sns.boxplot(x=\"Class\",y=\"Surface charge\",data=plot_df,flierprops = {'marker':'o','markerfacecolor':'black','markersize': 1},notch=True,width=0.8,palette=box_colors,order=['Reference','Isoform'])\n"
     ]
    },
    {
     "data": {
      "image/png": "[encoded data removed]",
      "text/plain": [
       "<Figure size 144x288 with 1 Axes>"
      ]
     },
     "metadata": {
      "needs_background": "light"
     },
     "output_type": "display_data"
    },
    {
     "data": {
      "text/html": [
       "<div>\n",
       "<style scoped>\n",
       "    .dataframe tbody tr th:only-of-type {\n",
       "        vertical-align: middle;\n",
       "    }\n",
       "\n",
       "    .dataframe tbody tr th {\n",
       "        vertical-align: top;\n",
       "    }\n",
       "\n",
       "    .dataframe thead th {\n",
       "        text-align: right;\n",
       "    }\n",
       "</style>\n",
       "<table border=\"1\" class=\"dataframe\">\n",
       "  <thead>\n",
       "    <tr style=\"text-align: right;\">\n",
       "      <th></th>\n",
       "      <th>Class</th>\n",
       "      <th>Surface charge</th>\n",
       "    </tr>\n",
       "  </thead>\n",
       "  <tbody>\n",
       "    <tr>\n",
       "      <th>0</th>\n",
       "      <td>Isoform</td>\n",
       "      <td>5.0</td>\n",
       "    </tr>\n",
       "    <tr>\n",
       "      <th>1</th>\n",
       "      <td>Isoform</td>\n",
       "      <td>4.0</td>\n",
       "    </tr>\n",
       "    <tr>\n",
       "      <th>2</th>\n",
       "      <td>Isoform</td>\n",
       "      <td>-3.0</td>\n",
       "    </tr>\n",
       "    <tr>\n",
       "      <th>3</th>\n",
       "      <td>Isoform</td>\n",
       "      <td>-7.0</td>\n",
       "    </tr>\n",
       "    <tr>\n",
       "      <th>4</th>\n",
       "      <td>Isoform</td>\n",
       "      <td>14.0</td>\n",
       "    </tr>\n",
       "    <tr>\n",
       "      <th>...</th>\n",
       "      <td>...</td>\n",
       "      <td>...</td>\n",
       "    </tr>\n",
       "    <tr>\n",
       "      <th>11063</th>\n",
       "      <td>Reference</td>\n",
       "      <td>3.0</td>\n",
       "    </tr>\n",
       "    <tr>\n",
       "      <th>11064</th>\n",
       "      <td>Reference</td>\n",
       "      <td>7.0</td>\n",
       "    </tr>\n",
       "    <tr>\n",
       "      <th>11065</th>\n",
       "      <td>Reference</td>\n",
       "      <td>-2.0</td>\n",
       "    </tr>\n",
       "    <tr>\n",
       "      <th>11066</th>\n",
       "      <td>Reference</td>\n",
       "      <td>6.0</td>\n",
       "    </tr>\n",
       "    <tr>\n",
       "      <th>11067</th>\n",
       "      <td>Reference</td>\n",
       "      <td>-9.0</td>\n",
       "    </tr>\n",
       "  </tbody>\n",
       "</table>\n",
       "<p>11068 rows × 2 columns</p>\n",
       "</div>"
      ],
      "text/plain": [
       "           Class  Surface charge\n",
       "0        Isoform             5.0\n",
       "1        Isoform             4.0\n",
       "2        Isoform            -3.0\n",
       "3        Isoform            -7.0\n",
       "4        Isoform            14.0\n",
       "...          ...             ...\n",
       "11063  Reference             3.0\n",
       "11064  Reference             7.0\n",
       "11065  Reference            -2.0\n",
       "11066  Reference             6.0\n",
       "11067  Reference            -9.0\n",
       "\n",
       "[11068 rows x 2 columns]"
      ]
     },
     "execution_count": 17,
     "metadata": {},
     "output_type": "execute_result"
    }
   ],
   "source": [
    "plot_distribtion_box(charge_isoform,charge_reference)"
   ]
  },
  {
   "cell_type": "code",
   "execution_count": 20,
   "id": "adf14241",
   "metadata": {},
   "outputs": [],
   "source": [
    "#plot_distribtion_box(plddt_IDR_isoform_charge,plddt_IDR_reference_charge)"
   ]
  },
  {
   "cell_type": "code",
   "execution_count": 29,
   "id": "17bbd22a",
   "metadata": {},
   "outputs": [],
   "source": [
    "#select the isoforms with alternative splicing types\n",
    "#isoform_charge_type_IDR,difference_charge_type_IDR=CF.combine_quality_type(plddt_IDR_isoform_charge,plddt_IDR_isoform_charge_diff,as_event)"
   ]
  },
  {
   "cell_type": "code",
   "execution_count": 20,
   "id": "ef78013d",
   "metadata": {},
   "outputs": [],
   "source": [
    "#select the isoforms with alternative splicing types\n",
    "isoform_charge_type,difference_charge_type=CF.combine_quality_type(charge_isoform,charge_difference,as_event)"
   ]
  },
  {
   "cell_type": "code",
   "execution_count": 21,
   "id": "190b5126",
   "metadata": {},
   "outputs": [],
   "source": [
    "difference_charge_list = []\n",
    "for isoform in difference_charge_type.keys():\n",
    "    difference_charge_list.append(difference_charge_type[isoform][0])"
   ]
  },
  {
   "cell_type": "code",
   "execution_count": 36,
   "id": "511266d7",
   "metadata": {},
   "outputs": [],
   "source": [
    "def plot_difference_outlier_box(difference_charge_type,name=None):\n",
    "    difference_charge_type_new={}\n",
    "    for isoform in difference_charge_type.keys():\n",
    "        difference_charge_type_new[isoform]=difference_charge_type[isoform][0]\n",
    "    plot_df = pd.DataFrame()\n",
    "    plot_df['Isoform']=list(difference_charge_type_new.keys())\n",
    "    plot_df['Surface charge difference']=list(difference_charge_type_new.values())\n",
    "    plot_df['Class']='Isoform'\n",
    "    fig = plt.figure(figsize=(2,4))\n",
    "    box_colors = ['#25D9F5']\n",
    "    sns.boxplot(data=plot_df, x='Class', y='Surface charge difference',flierprops = {'marker':'o','markerfacecolor':'black','markersize': 1},notch=True,width=0.8,palette=box_colors)\n",
    "    plt.xlabel('')\n",
    "    plt.xticks(fontsize=12)\n",
    "    #plt.yticks(range(-25, 30, 10),fontsize=12)\n",
    "    plt.ylabel(\"Surface charge difference\",fontsize=12)\n",
    "    plt.gca().spines['right'].set_visible(False)\n",
    "    plt.gca().spines['top'].set_visible(False)\n",
    "    plt.savefig(name+'_difference.png',dpi=600,bbox_inches='tight')\n",
    "    plt.show()\n",
    "    return plot_df"
   ]
  },
  {
   "cell_type": "code",
   "execution_count": 16,
   "id": "028698e2",
   "metadata": {},
   "outputs": [
    {
     "name": "stdout",
     "output_type": "stream",
     "text": [
      "median of high and confident difference 1.7763568394002505e-15\n"
     ]
    }
   ],
   "source": [
    "#high and confident\n",
    "print('median of high and confident difference',np.median(difference_charge_list))"
   ]
  },
  {
   "cell_type": "code",
   "execution_count": 22,
   "id": "2621c0a6",
   "metadata": {},
   "outputs": [
    {
     "name": "stdout",
     "output_type": "stream",
     "text": [
      "median of high difference -0.9999999999999944\n"
     ]
    }
   ],
   "source": [
    "#high\n",
    "print('median of high difference',np.median(difference_charge_list))"
   ]
  },
  {
   "cell_type": "code",
   "execution_count": 28,
   "id": "2a91a0cc",
   "metadata": {},
   "outputs": [
    {
     "name": "stderr",
     "output_type": "stream",
     "text": [
      "/tmp/ipykernel_3290511/1110213021.py:11: FutureWarning: \n",
      "\n",
      "Passing `palette` without assigning `hue` is deprecated and will be removed in v0.14.0. Assign the `x` variable to `hue` and set `legend=False` for the same effect.\n",
      "\n",
      "  sns.boxplot(data=plot_df, x='Class', y='Surface charge difference',flierprops = {'marker':'o','markerfacecolor':'black','markersize': 1},notch=True,width=0.8,palette=box_colors)\n"
     ]
    },
    {
     "data": {
      "image/png": "[encoded data removed]",
      "text/plain": [
       "<Figure size 144x288 with 1 Axes>"
      ]
     },
     "metadata": {
      "needs_background": "light"
     },
     "output_type": "display_data"
    },
    {
     "data": {
      "text/html": [
       "<div>\n",
       "<style scoped>\n",
       "    .dataframe tbody tr th:only-of-type {\n",
       "        vertical-align: middle;\n",
       "    }\n",
       "\n",
       "    .dataframe tbody tr th {\n",
       "        vertical-align: top;\n",
       "    }\n",
       "\n",
       "    .dataframe thead th {\n",
       "        text-align: right;\n",
       "    }\n",
       "</style>\n",
       "<table border=\"1\" class=\"dataframe\">\n",
       "  <thead>\n",
       "    <tr style=\"text-align: right;\">\n",
       "      <th></th>\n",
       "      <th>Isoform</th>\n",
       "      <th>Surface charge difference</th>\n",
       "      <th>Class</th>\n",
       "    </tr>\n",
       "  </thead>\n",
       "  <tbody>\n",
       "    <tr>\n",
       "      <th>0</th>\n",
       "      <td>O76075-2</td>\n",
       "      <td>-9.0</td>\n",
       "      <td>Isoform</td>\n",
       "    </tr>\n",
       "    <tr>\n",
       "      <th>1</th>\n",
       "      <td>Q13303-2</td>\n",
       "      <td>-3.0</td>\n",
       "      <td>Isoform</td>\n",
       "    </tr>\n",
       "    <tr>\n",
       "      <th>2</th>\n",
       "      <td>Q13303-4</td>\n",
       "      <td>-6.0</td>\n",
       "      <td>Isoform</td>\n",
       "    </tr>\n",
       "    <tr>\n",
       "      <th>3</th>\n",
       "      <td>P30038-3</td>\n",
       "      <td>1.0</td>\n",
       "      <td>Isoform</td>\n",
       "    </tr>\n",
       "    <tr>\n",
       "      <th>4</th>\n",
       "      <td>P30038-2</td>\n",
       "      <td>-10.0</td>\n",
       "      <td>Isoform</td>\n",
       "    </tr>\n",
       "    <tr>\n",
       "      <th>...</th>\n",
       "      <td>...</td>\n",
       "      <td>...</td>\n",
       "      <td>...</td>\n",
       "    </tr>\n",
       "    <tr>\n",
       "      <th>637</th>\n",
       "      <td>P49459-3</td>\n",
       "      <td>-1.0</td>\n",
       "      <td>Isoform</td>\n",
       "    </tr>\n",
       "    <tr>\n",
       "      <th>638</th>\n",
       "      <td>Q9ULC4-3</td>\n",
       "      <td>0.0</td>\n",
       "      <td>Isoform</td>\n",
       "    </tr>\n",
       "    <tr>\n",
       "      <th>639</th>\n",
       "      <td>P22304-2</td>\n",
       "      <td>13.0</td>\n",
       "      <td>Isoform</td>\n",
       "    </tr>\n",
       "    <tr>\n",
       "      <th>640</th>\n",
       "      <td>Q8TE69-2</td>\n",
       "      <td>2.0</td>\n",
       "      <td>Isoform</td>\n",
       "    </tr>\n",
       "    <tr>\n",
       "      <th>641</th>\n",
       "      <td>P51854-4</td>\n",
       "      <td>2.0</td>\n",
       "      <td>Isoform</td>\n",
       "    </tr>\n",
       "  </tbody>\n",
       "</table>\n",
       "<p>642 rows × 3 columns</p>\n",
       "</div>"
      ],
      "text/plain": [
       "      Isoform  Surface charge difference    Class\n",
       "0    O76075-2                       -9.0  Isoform\n",
       "1    Q13303-2                       -3.0  Isoform\n",
       "2    Q13303-4                       -6.0  Isoform\n",
       "3    P30038-3                        1.0  Isoform\n",
       "4    P30038-2                      -10.0  Isoform\n",
       "..        ...                        ...      ...\n",
       "637  P49459-3                       -1.0  Isoform\n",
       "638  Q9ULC4-3                        0.0  Isoform\n",
       "639  P22304-2                       13.0  Isoform\n",
       "640  Q8TE69-2                        2.0  Isoform\n",
       "641  P51854-4                        2.0  Isoform\n",
       "\n",
       "[642 rows x 3 columns]"
      ]
     },
     "execution_count": 28,
     "metadata": {},
     "output_type": "execute_result"
    }
   ],
   "source": [
    "plot_difference_outlier_box(difference_charge_type)"
   ]
  },
  {
   "cell_type": "code",
   "execution_count": 24,
   "id": "d7209f91",
   "metadata": {},
   "outputs": [],
   "source": [
    "#plot_df=plot_difference_outlier_box(difference_charge_type_IDR)"
   ]
  },
  {
   "cell_type": "markdown",
   "id": "8de70c5f",
   "metadata": {},
   "source": [
    "<span style=\"font-size: 20px;\">Select outlier examples and plot the alternative splicing types in surface charge outliers: </span>"
   ]
  },
  {
   "cell_type": "code",
   "execution_count": 16,
   "id": "8a724351",
   "metadata": {},
   "outputs": [],
   "source": [
    "def calculate_outliters_charge(charge_difference_dic):\n",
    "    charge_difference_list=[]\n",
    "    for charge in charge_difference_dic.values():\n",
    "        charge_difference_list.append(charge[0])\n",
    "    Q1=np.percentile(charge_difference_list,25)\n",
    "    Q3=np.percentile(charge_difference_list,75)\n",
    "    IQR=1.5*(Q3-Q1)\n",
    "    upper_bound=Q3+IQR\n",
    "    lower_bound=Q1-IQR\n",
    "    lower_list=[]\n",
    "    upper_list=[]\n",
    "    for k,v in charge_difference_dic.items():\n",
    "        if v[0]>=upper_bound and type(v[1])==list:\n",
    "            upper_list.append(k)\n",
    "        elif v[0]<=lower_bound and type(v[1])==list:\n",
    "            lower_list.append(k)\n",
    "        else:\n",
    "            continue\n",
    "    return upper_list,lower_list,upper_bound,lower_bound"
   ]
  },
  {
   "cell_type": "code",
   "execution_count": 31,
   "id": "95f5dcce",
   "metadata": {},
   "outputs": [],
   "source": [
    "upper_list,lower_list,upper_bound,lower_bound=calculate_outliters_charge(difference_charge_type)"
   ]
  },
  {
   "cell_type": "code",
   "execution_count": 37,
   "id": "509136ca",
   "metadata": {},
   "outputs": [],
   "source": [
    "#upper_list,lower_list,upper_bound,lower_bound=calculate_outliters_charge(difference_charge_type_IDR)"
   ]
  },
  {
   "cell_type": "code",
   "execution_count": 48,
   "id": "82001657",
   "metadata": {},
   "outputs": [],
   "source": [
    "#replace the name for the plot\n",
    "def replace_as_abb_dic(plot_dic):\n",
    "    new_plot_dic={}\n",
    "    as_name_dic={'exon_skipping':'ES',\n",
    "                 'alternative_donor_site':'ADS',\n",
    "                 'alternative_acceptor_site':'AAS',\n",
    "                 'mutually_exclusive_exon':'MXE',\n",
    "                 'intron_retention':'IR',\n",
    "                 'alternative_first_exon':'AFE',\n",
    "                 'alternative_last_exon':'ALE',\n",
    "                 'mutually_exclusive_exon-alternative_first_exon':'MXE-AFE',\n",
    "                 'mutually_exclusive_exon-alternative_last_exon':'MXE-ALE'}\n",
    "    for key in plot_dic.keys():\n",
    "        new_plot_dic[as_name_dic[key]]=plot_dic[key]\n",
    "    return new_plot_dic"
   ]
  },
  {
   "cell_type": "code",
   "execution_count": 49,
   "id": "4fdc9f17",
   "metadata": {},
   "outputs": [],
   "source": [
    "def get_feature(charge_list,charge_dic):\n",
    "    count_feature={}\n",
    "    for isoform in charge_list:\n",
    "        for feature in charge_dic[isoform][1]:\n",
    "            if feature in count_feature.keys():\n",
    "                count_feature[feature]+=1\n",
    "            else:\n",
    "                count_feature[feature]=1\n",
    "    return count_feature"
   ]
  },
  {
   "cell_type": "code",
   "execution_count": 35,
   "id": "8d02f7d9",
   "metadata": {},
   "outputs": [],
   "source": [
    "feature_upper=get_feature(upper_list,difference_charge_type)\n",
    "feature_lower=get_feature(lower_list,difference_charge_type)"
   ]
  },
  {
   "cell_type": "code",
   "execution_count": 40,
   "id": "ade0dc73",
   "metadata": {},
   "outputs": [],
   "source": [
    "#feature_upper_IDR=get_feature(upper_list,difference_charge_type_IDR)\n",
    "#feature_lower_IDR=get_feature(lower_list,difference_charge_type_IDR)"
   ]
  },
  {
   "cell_type": "code",
   "execution_count": 62,
   "id": "6ce3a690",
   "metadata": {},
   "outputs": [],
   "source": [
    "def plot_outlier_event_frequent_pair(positive_outlier,negative_outlier,threshold=5,name=None):\n",
    "    selected_positive_outlier_pair = heapq.nlargest(threshold, positive_outlier.items(), key=lambda item: item[1])\n",
    "    selected_negative_outlier_pair = heapq.nlargest(threshold, negative_outlier.items(), key=lambda item: item[1])\n",
    "    sorted_positive_outlier = dict(selected_positive_outlier_pair)\n",
    "    sorted_negative_outlier = dict(selected_negative_outlier_pair)\n",
    "    sorted_positive_outlier = replace_as_abb_dic(sorted_positive_outlier)\n",
    "    sorted_negative_outlier = replace_as_abb_dic(sorted_negative_outlier)\n",
    "    \n",
    "    as_list=list(sorted_positive_outlier.keys())\n",
    "    positive_outlier_list=list(sorted_positive_outlier.values())\n",
    "    negative_outlier_list=list(sorted_negative_outlier.values())\n",
    "\n",
    "    bar_width = 0.4\n",
    "    bar1_positions = range(len(as_list))\n",
    "    bar2_positions = [x + bar_width for x in bar1_positions]\n",
    " \n",
    "    plt.bar(bar1_positions, positive_outlier_list, width=bar_width, label='positive',color='#000099')\n",
    "    plt.bar(bar2_positions, negative_outlier_list, width=bar_width, label='negative',color='#FF0000')\n",
    "    \n",
    "    plt.xticks([x + bar_width/2 for x in bar1_positions], as_list,fontsize=14)\n",
    "    plt.legend(fontsize=12)\n",
    "    plt.xlabel('AS event type',fontsize=14)\n",
    "    plt.ylabel('AS event number',fontsize=14)\n",
    "    #plt.yticks(range(0, 10, 1),fontsize=14)\n",
    "    plt.savefig(name+'_type.png',dpi=600,bbox_inches='tight')\n",
    "    plt.show()\n",
    "    return True\n"
   ]
  },
  {
   "cell_type": "code",
   "execution_count": 43,
   "id": "a2234818",
   "metadata": {},
   "outputs": [
    {
     "data": {
      "image/png": "[encoded data removed]",
      "text/plain": [
       "<Figure size 432x288 with 1 Axes>"
      ]
     },
     "metadata": {
      "needs_background": "light"
     },
     "output_type": "display_data"
    },
    {
     "data": {
      "text/plain": [
       "True"
      ]
     },
     "execution_count": 43,
     "metadata": {},
     "output_type": "execute_result"
    }
   ],
   "source": [
    "plot_outlier_event_frequent_pair(feature_upper,feature_lower)"
   ]
  },
  {
   "cell_type": "markdown",
   "id": "b5acfeda",
   "metadata": {},
   "source": [
    "<span style=\"font-size: 20px;\">Calculate outlier examples only for non-IDR non-extended helices dataset: </span>"
   ]
  },
  {
   "cell_type": "code",
   "execution_count": 5,
   "id": "a0b84c96",
   "metadata": {},
   "outputs": [],
   "source": [
    "non_HE_isoform_path='../data/txt/non_HE_isoform.txt'"
   ]
  },
  {
   "cell_type": "code",
   "execution_count": 6,
   "id": "a882430f",
   "metadata": {},
   "outputs": [],
   "source": [
    "non_HE_isoform_list = []\n",
    "with open(non_HE_isoform_path,'r') as f:\n",
    "    for line in f:\n",
    "        line = line.replace('\\n','')\n",
    "        non_HE_isoform_list.append(line)\n",
    "f.close()"
   ]
  },
  {
   "cell_type": "code",
   "execution_count": 7,
   "id": "c3fc1505",
   "metadata": {},
   "outputs": [],
   "source": [
    "non_HE_reference_list = []\n",
    "for isoform in non_HE_isoform_list:\n",
    "    non_HE_reference_list.append(isoform.split('-')[0])\n",
    "non_HE_reference_list = list(set(non_HE_reference_list))"
   ]
  },
  {
   "cell_type": "code",
   "execution_count": 8,
   "id": "865e6c5d",
   "metadata": {},
   "outputs": [],
   "source": [
    "non_HE_isoform_summary = isoform_summary[isoform_summary['isoform'].isin(non_HE_isoform_list)]\n",
    "non_HE_isoform_summary = non_HE_isoform_summary.reset_index(drop=True)\n",
    "\n",
    "non_HE_reference_summary = reference_summary[reference_summary['reference'].isin(non_HE_reference_list)]\n",
    "non_HE_reference_summary = non_HE_reference_summary.reset_index(drop=True)"
   ]
  },
  {
   "cell_type": "code",
   "execution_count": 9,
   "id": "9e3d90ca",
   "metadata": {},
   "outputs": [],
   "source": [
    "charge_non_HE_isoform,charge_non_HE_reference,charge_non_HE_difference=CF.combine_quality_metric(non_HE_reference_summary,non_HE_isoform_summary,reference_surface_charge,isoform_surface_charge,difference_surface_charge)"
   ]
  },
  {
   "cell_type": "code",
   "execution_count": 10,
   "id": "ca434609",
   "metadata": {},
   "outputs": [],
   "source": [
    "isoform_charge_non_HE_list=list(charge_non_HE_isoform.values())\n",
    "reference_charge_non_HE_list=list(charge_non_HE_reference.values())\n",
    "statistic, p_value = stats.mannwhitneyu(isoform_charge_non_HE_list,reference_charge_non_HE_list)"
   ]
  },
  {
   "cell_type": "code",
   "execution_count": 12,
   "id": "7f004d93",
   "metadata": {},
   "outputs": [
    {
     "name": "stdout",
     "output_type": "stream",
     "text": [
      "median charge for isoforms with no isolated helices and IDRs: 0.0\n",
      "1359\n",
      "median charge for corresponding references -1.1102230246251563e-15\n",
      "975\n",
      "pvalue: 0.5768731410449297\n"
     ]
    }
   ],
   "source": [
    "#non HE\n",
    "print('median charge for isoforms with no isolated helices and IDRs:',np.median(isoform_charge_non_HE_list))\n",
    "print(len(isoform_charge_non_HE_list))\n",
    "#non HE\n",
    "print('median charge for corresponding references',np.median(reference_charge_non_HE_list))\n",
    "print(len(reference_charge_non_HE_list))\n",
    "\n",
    "#non HE\n",
    "print('pvalue:',p_value)"
   ]
  },
  {
   "cell_type": "code",
   "execution_count": 29,
   "id": "5e880985",
   "metadata": {},
   "outputs": [
    {
     "name": "stderr",
     "output_type": "stream",
     "text": [
      "/tmp/ipykernel_2775640/3580961959.py:17: FutureWarning: \n",
      "\n",
      "Passing `palette` without assigning `hue` is deprecated and will be removed in v0.14.0. Assign the `x` variable to `hue` and set `legend=False` for the same effect.\n",
      "\n",
      "  sns.boxplot(x=\"Class\",y=\"Surface charge\",data=plot_df,flierprops = {'marker':'o','markerfacecolor':'black','markersize': 1},notch=True,width=0.8,palette=box_colors,order=['Reference','Isoform'])\n"
     ]
    },
    {
     "data": {
      "image/png": "[encoded data removed]",
      "text/plain": [
       "<Figure size 144x288 with 1 Axes>"
      ]
     },
     "metadata": {
      "needs_background": "light"
     },
     "output_type": "display_data"
    },
    {
     "data": {
      "text/html": [
       "<div>\n",
       "<style scoped>\n",
       "    .dataframe tbody tr th:only-of-type {\n",
       "        vertical-align: middle;\n",
       "    }\n",
       "\n",
       "    .dataframe tbody tr th {\n",
       "        vertical-align: top;\n",
       "    }\n",
       "\n",
       "    .dataframe thead th {\n",
       "        text-align: right;\n",
       "    }\n",
       "</style>\n",
       "<table border=\"1\" class=\"dataframe\">\n",
       "  <thead>\n",
       "    <tr style=\"text-align: right;\">\n",
       "      <th></th>\n",
       "      <th>Class</th>\n",
       "      <th>Surface charge</th>\n",
       "    </tr>\n",
       "  </thead>\n",
       "  <tbody>\n",
       "    <tr>\n",
       "      <th>0</th>\n",
       "      <td>Isoform</td>\n",
       "      <td>-7.000000e+00</td>\n",
       "    </tr>\n",
       "    <tr>\n",
       "      <th>1</th>\n",
       "      <td>Isoform</td>\n",
       "      <td>-9.000000e+00</td>\n",
       "    </tr>\n",
       "    <tr>\n",
       "      <th>2</th>\n",
       "      <td>Isoform</td>\n",
       "      <td>-3.000000e+00</td>\n",
       "    </tr>\n",
       "    <tr>\n",
       "      <th>3</th>\n",
       "      <td>Isoform</td>\n",
       "      <td>1.300000e+01</td>\n",
       "    </tr>\n",
       "    <tr>\n",
       "      <th>4</th>\n",
       "      <td>Isoform</td>\n",
       "      <td>-4.000000e+00</td>\n",
       "    </tr>\n",
       "    <tr>\n",
       "      <th>...</th>\n",
       "      <td>...</td>\n",
       "      <td>...</td>\n",
       "    </tr>\n",
       "    <tr>\n",
       "      <th>2329</th>\n",
       "      <td>Reference</td>\n",
       "      <td>5.000000e+00</td>\n",
       "    </tr>\n",
       "    <tr>\n",
       "      <th>2330</th>\n",
       "      <td>Reference</td>\n",
       "      <td>-4.773959e-15</td>\n",
       "    </tr>\n",
       "    <tr>\n",
       "      <th>2331</th>\n",
       "      <td>Reference</td>\n",
       "      <td>-5.000000e+00</td>\n",
       "    </tr>\n",
       "    <tr>\n",
       "      <th>2332</th>\n",
       "      <td>Reference</td>\n",
       "      <td>-3.000000e+00</td>\n",
       "    </tr>\n",
       "    <tr>\n",
       "      <th>2333</th>\n",
       "      <td>Reference</td>\n",
       "      <td>1.400000e+01</td>\n",
       "    </tr>\n",
       "  </tbody>\n",
       "</table>\n",
       "<p>2334 rows × 2 columns</p>\n",
       "</div>"
      ],
      "text/plain": [
       "          Class  Surface charge\n",
       "0       Isoform   -7.000000e+00\n",
       "1       Isoform   -9.000000e+00\n",
       "2       Isoform   -3.000000e+00\n",
       "3       Isoform    1.300000e+01\n",
       "4       Isoform   -4.000000e+00\n",
       "...         ...             ...\n",
       "2329  Reference    5.000000e+00\n",
       "2330  Reference   -4.773959e-15\n",
       "2331  Reference   -5.000000e+00\n",
       "2332  Reference   -3.000000e+00\n",
       "2333  Reference    1.400000e+01\n",
       "\n",
       "[2334 rows x 2 columns]"
      ]
     },
     "execution_count": 29,
     "metadata": {},
     "output_type": "execute_result"
    }
   ],
   "source": [
    "plot_distribtion_box(charge_non_HE_isoform,charge_non_HE_reference,name='charge_non_HE')"
   ]
  },
  {
   "cell_type": "code",
   "execution_count": 14,
   "id": "780ef64c",
   "metadata": {},
   "outputs": [],
   "source": [
    "#select the isoforms with alternative splicing types\n",
    "isoform_charge_non_HE_type,difference_charge_non_HE_type=CF.combine_quality_type(charge_non_HE_isoform,charge_non_HE_difference,as_event)"
   ]
  },
  {
   "cell_type": "code",
   "execution_count": 15,
   "id": "75e683c2",
   "metadata": {},
   "outputs": [
    {
     "data": {
      "text/plain": [
       "1012"
      ]
     },
     "execution_count": 15,
     "metadata": {},
     "output_type": "execute_result"
    }
   ],
   "source": [
    "len(isoform_charge_non_HE_type)"
   ]
  },
  {
   "cell_type": "code",
   "execution_count": 37,
   "id": "e2aeb05d",
   "metadata": {},
   "outputs": [
    {
     "name": "stderr",
     "output_type": "stream",
     "text": [
      "/tmp/ipykernel_2775640/817408782.py:11: FutureWarning: \n",
      "\n",
      "Passing `palette` without assigning `hue` is deprecated and will be removed in v0.14.0. Assign the `x` variable to `hue` and set `legend=False` for the same effect.\n",
      "\n",
      "  sns.boxplot(data=plot_df, x='Class', y='Surface charge difference',flierprops = {'marker':'o','markerfacecolor':'black','markersize': 1},notch=True,width=0.8,palette=box_colors)\n"
     ]
    },
    {
     "data": {
      "image/png": "[encoded data removed]",
      "text/plain": [
       "<Figure size 144x288 with 1 Axes>"
      ]
     },
     "metadata": {
      "needs_background": "light"
     },
     "output_type": "display_data"
    },
    {
     "data": {
      "text/html": [
       "<div>\n",
       "<style scoped>\n",
       "    .dataframe tbody tr th:only-of-type {\n",
       "        vertical-align: middle;\n",
       "    }\n",
       "\n",
       "    .dataframe tbody tr th {\n",
       "        vertical-align: top;\n",
       "    }\n",
       "\n",
       "    .dataframe thead th {\n",
       "        text-align: right;\n",
       "    }\n",
       "</style>\n",
       "<table border=\"1\" class=\"dataframe\">\n",
       "  <thead>\n",
       "    <tr style=\"text-align: right;\">\n",
       "      <th></th>\n",
       "      <th>Isoform</th>\n",
       "      <th>Surface charge difference</th>\n",
       "      <th>Class</th>\n",
       "    </tr>\n",
       "  </thead>\n",
       "  <tbody>\n",
       "    <tr>\n",
       "      <th>0</th>\n",
       "      <td>Q8TBF2-2</td>\n",
       "      <td>6.0</td>\n",
       "      <td>Isoform</td>\n",
       "    </tr>\n",
       "    <tr>\n",
       "      <th>1</th>\n",
       "      <td>O76075-2</td>\n",
       "      <td>-9.0</td>\n",
       "      <td>Isoform</td>\n",
       "    </tr>\n",
       "    <tr>\n",
       "      <th>2</th>\n",
       "      <td>P30038-3</td>\n",
       "      <td>1.0</td>\n",
       "      <td>Isoform</td>\n",
       "    </tr>\n",
       "    <tr>\n",
       "      <th>3</th>\n",
       "      <td>P30038-2</td>\n",
       "      <td>-10.0</td>\n",
       "      <td>Isoform</td>\n",
       "    </tr>\n",
       "    <tr>\n",
       "      <th>4</th>\n",
       "      <td>P05186-2</td>\n",
       "      <td>-5.0</td>\n",
       "      <td>Isoform</td>\n",
       "    </tr>\n",
       "    <tr>\n",
       "      <th>...</th>\n",
       "      <td>...</td>\n",
       "      <td>...</td>\n",
       "      <td>...</td>\n",
       "    </tr>\n",
       "    <tr>\n",
       "      <th>1007</th>\n",
       "      <td>O60880-3</td>\n",
       "      <td>-4.0</td>\n",
       "      <td>Isoform</td>\n",
       "    </tr>\n",
       "    <tr>\n",
       "      <th>1008</th>\n",
       "      <td>O60880-6</td>\n",
       "      <td>-4.0</td>\n",
       "      <td>Isoform</td>\n",
       "    </tr>\n",
       "    <tr>\n",
       "      <th>1009</th>\n",
       "      <td>Q8TE69-2</td>\n",
       "      <td>2.0</td>\n",
       "      <td>Isoform</td>\n",
       "    </tr>\n",
       "    <tr>\n",
       "      <th>1010</th>\n",
       "      <td>Q8N1B3-2</td>\n",
       "      <td>2.0</td>\n",
       "      <td>Isoform</td>\n",
       "    </tr>\n",
       "    <tr>\n",
       "      <th>1011</th>\n",
       "      <td>P51854-4</td>\n",
       "      <td>2.0</td>\n",
       "      <td>Isoform</td>\n",
       "    </tr>\n",
       "  </tbody>\n",
       "</table>\n",
       "<p>1012 rows × 3 columns</p>\n",
       "</div>"
      ],
      "text/plain": [
       "       Isoform  Surface charge difference    Class\n",
       "0     Q8TBF2-2                        6.0  Isoform\n",
       "1     O76075-2                       -9.0  Isoform\n",
       "2     P30038-3                        1.0  Isoform\n",
       "3     P30038-2                      -10.0  Isoform\n",
       "4     P05186-2                       -5.0  Isoform\n",
       "...        ...                        ...      ...\n",
       "1007  O60880-3                       -4.0  Isoform\n",
       "1008  O60880-6                       -4.0  Isoform\n",
       "1009  Q8TE69-2                        2.0  Isoform\n",
       "1010  Q8N1B3-2                        2.0  Isoform\n",
       "1011  P51854-4                        2.0  Isoform\n",
       "\n",
       "[1012 rows x 3 columns]"
      ]
     },
     "execution_count": 37,
     "metadata": {},
     "output_type": "execute_result"
    }
   ],
   "source": [
    "plot_difference_outlier_box(difference_charge_non_HE_type,name='charge_non_HE')"
   ]
  },
  {
   "cell_type": "code",
   "execution_count": 16,
   "id": "4c9061c4",
   "metadata": {},
   "outputs": [],
   "source": [
    "difference_non_HE_charge_list = []\n",
    "for isoform in difference_charge_non_HE_type.keys():\n",
    "    difference_non_HE_charge_list.append(difference_charge_non_HE_type[isoform][0])"
   ]
  },
  {
   "cell_type": "code",
   "execution_count": 40,
   "id": "decdd763",
   "metadata": {},
   "outputs": [
    {
     "name": "stdout",
     "output_type": "stream",
     "text": [
      "median of non HE 0.0\n"
     ]
    }
   ],
   "source": [
    "print('median of non HE',np.median(difference_non_HE_charge_list))"
   ]
  },
  {
   "cell_type": "code",
   "execution_count": 43,
   "id": "380a49e3",
   "metadata": {},
   "outputs": [],
   "source": [
    "upper_non_HE_list,lower_non_HE_list,upper_non_HE_bound,lower_non_HE_bound = calculate_outliters_charge(difference_charge_non_HE_type)"
   ]
  },
  {
   "cell_type": "code",
   "execution_count": 47,
   "id": "7ec1683c",
   "metadata": {},
   "outputs": [
    {
     "data": {
      "text/plain": [
       "-10.499999999999986"
      ]
     },
     "execution_count": 47,
     "metadata": {},
     "output_type": "execute_result"
    }
   ],
   "source": [
    "lower_non_HE_bound"
   ]
  },
  {
   "cell_type": "code",
   "execution_count": 11,
   "id": "76d52db2",
   "metadata": {},
   "outputs": [],
   "source": [
    "non_HE_Q1=np.percentile(list(charge_non_HE_difference.values()),25)\n",
    "non_HE_Q3=np.percentile(list(charge_non_HE_difference.values()),75)\n",
    "non_HE_IQR=1.5*(non_HE_Q3-non_HE_Q1)\n",
    "non_HE_upper_bound=non_HE_Q3+non_HE_IQR\n",
    "non_HE_lower_bound=non_HE_Q1-non_HE_IQR\n",
    "\n",
    "non_HE_upper_list=[]\n",
    "non_HE_lower_list=[]\n",
    "for k,v in charge_non_HE_difference.items():\n",
    "    if v>=non_HE_upper_bound:\n",
    "        non_HE_upper_list.append(k)\n",
    "    elif v<=non_HE_lower_bound:\n",
    "        non_HE_lower_list.append(k)\n",
    "    else:\n",
    "        continue"
   ]
  },
  {
   "cell_type": "code",
   "execution_count": 5,
   "id": "6e82c89b",
   "metadata": {},
   "outputs": [],
   "source": [
    "RCL1_reference_seq='MATQAHSLSYAGCNFLRQRLVLSTLSGRPVKIRKIRARDDNPGLRDFEASFIRLLDKITNGSRIEINQTGTTLYYQPGLLYGGSVEHDCSVLRGIGYYLESLLCLAPFMKHPLKIVLRGVTNDQVDPSVDVLKATALPLLKQFGIDGESFELKIVRRGMPPGGGGEVVFSCPVRKVLKPIQLTDPGKIKRIRGMAYSVRVSPQMANRIVDSARSILNKFIPDIYIYTDHMKGVNSGKSPGFGLSLVAETTSGTFLSAELASNPQGQGAAVLPEDLGRNCARLLLEEIYRGGCVDSTNQSLALLLMTLGQQDVSKVLLGPLSPYTIEFLRHLKSFFQIMFKIETKPCGEELKGGDKVLMTCVGIGFSNLSKTLK'"
   ]
  },
  {
   "cell_type": "code",
   "execution_count": 2,
   "id": "f7abee71",
   "metadata": {},
   "outputs": [],
   "source": [
    "RCL1_isoform_seq='MTSLTPGCRYSVRVSPQMANRIVDSARSILNKFIPDIYIYTDHMKGVNSGKSPGFGLSLVAETTSGTFLSAELASNPQGQGAAVLPEDLGRNCARLLLEEIYRGGCVDSTNQSLALLLMTLGQQDVSKVLLGPLSPYTIEFLRHLKSFFQIMFKIETKPCGEELKGGDKVLMTCVGIGFSNLSKTLK'"
   ]
  },
  {
   "cell_type": "code",
   "execution_count": 8,
   "id": "d5bf3014",
   "metadata": {},
   "outputs": [
    {
     "data": {
      "text/plain": [
       "17"
      ]
     },
     "execution_count": 8,
     "metadata": {},
     "output_type": "execute_result"
    }
   ],
   "source": [
    "RCL1_reference_seq.count('E')"
   ]
  },
  {
   "cell_type": "code",
   "execution_count": 10,
   "id": "e7594405",
   "metadata": {},
   "outputs": [
    {
     "data": {
      "text/plain": [
       "9"
      ]
     },
     "execution_count": 10,
     "metadata": {},
     "output_type": "execute_result"
    }
   ],
   "source": [
    "RCL1_isoform_seq.count('E')"
   ]
  },
  {
   "cell_type": "code",
   "execution_count": 12,
   "id": "36c9025a",
   "metadata": {},
   "outputs": [
    {
     "data": {
      "text/plain": [
       "['Q9UIR0-3',\n",
       " 'Q6QHF9-6',\n",
       " 'Q6P3W2-2',\n",
       " 'O14958-2',\n",
       " 'Q96DC9-2',\n",
       " 'Q9NZQ9-2',\n",
       " 'Q7Z4H3-3',\n",
       " 'Q9C0B1-2',\n",
       " 'Q8N3F0-2',\n",
       " 'O60671-3',\n",
       " 'Q9Y2B0-2',\n",
       " 'Q9NUL5-3',\n",
       " 'Q9C0B1-4',\n",
       " 'P19883-2',\n",
       " 'Q9C0B1-3',\n",
       " 'Q92496-3',\n",
       " 'Q3I5F7-2',\n",
       " 'Q8TB03-3',\n",
       " 'Q9UIR0-5',\n",
       " 'Q6UXH1-3',\n",
       " 'Q16539-5',\n",
       " 'O95278-6',\n",
       " 'Q9H867-1',\n",
       " 'Q8IUX4-2',\n",
       " 'P61962-2',\n",
       " 'Q9BXD5-5']"
      ]
     },
     "execution_count": 12,
     "metadata": {},
     "output_type": "execute_result"
    }
   ],
   "source": [
    "#structure looks fine: Q9UIR0-3,Q6P3W2-2,Q16539-5(*)\n",
    "#structure different: Q6QHF9-6,Q7Z4H3-3,Q9C0B1-2,O60671-3,Q9C0B1-4,Q9C0B1-3,Q3I5F7-2,Q8TB03-3,O95278-6,Q9H867-1,Q8IUX4-2,Q9BXD5-5(*)\n",
    "#loop: O14958-2,Q9NZQ9-2,Q8N3F0-2,P19883-2,Q6UXH1-3\n",
    "#helix: Q9Y2B0-2,Q9NUL5-3\n",
    "#repeat: Q92496-3,Q9UIR0-5,P61962-2(*)\n",
    "non_HE_upper_list"
   ]
  },
  {
   "cell_type": "code",
   "execution_count": 13,
   "id": "5682f7bf",
   "metadata": {},
   "outputs": [
    {
     "data": {
      "text/plain": [
       "['Q9NZK5-2',\n",
       " 'O95498-5',\n",
       " 'P53677-2',\n",
       " 'Q92737-2',\n",
       " 'Q9BY64-2',\n",
       " 'Q9NYL4-2',\n",
       " 'Q8N688-2',\n",
       " 'Q5H9S7-2',\n",
       " 'Q9H7B4-2',\n",
       " 'P10747-5',\n",
       " 'P46779-4',\n",
       " 'Q9NV06-2',\n",
       " 'Q8N4T4-3',\n",
       " 'P22307-3',\n",
       " 'Q16773-3',\n",
       " 'P20718-3',\n",
       " 'P61313-2',\n",
       " 'Q9Y2P8-2',\n",
       " 'Q8NDZ4-2',\n",
       " 'Q9H9T3-5',\n",
       " 'P36871-3',\n",
       " 'Q8WZ79-2',\n",
       " 'Q9NRZ5-2',\n",
       " 'Q6ZNC8-3',\n",
       " 'Q9Y6A2-3',\n",
       " 'P46779-5']"
      ]
     },
     "execution_count": 13,
     "metadata": {},
     "output_type": "execute_result"
    }
   ],
   "source": [
    "#structure looks fine: Q9NZK5-2,Q9H7B4-2,P22307-3,Q16773-3,P61313-2,Q9H9T3-5,P36871-3\n",
    "#structure different: O95498-5,Q92737-2,Q9NV06-2,P20718-3,Q9Y2P8-2(*),Q8NDZ4-2,Q8WZ79-2,Q6ZNC8-3,P46779-5\n",
    "#repeat: P53677-2(*),Q5H9S7-2(*)\n",
    "#helix: Q9BY64-2,Q9NYL4-2,P10747-5,P46779-4,Q8N4T4-3,Q9NRZ5-2,Q9Y6A2-3\n",
    "#loop: Q8N688-2\n",
    "non_HE_lower_list"
   ]
  },
  {
   "cell_type": "code",
   "execution_count": 53,
   "id": "0b8df5b5",
   "metadata": {},
   "outputs": [],
   "source": [
    "feature_non_HE_upper=get_feature(upper_non_HE_list,difference_charge_non_HE_type)\n",
    "feature_non_HE_lower=get_feature(lower_non_HE_list,difference_charge_non_HE_type)"
   ]
  },
  {
   "cell_type": "code",
   "execution_count": 58,
   "id": "a540ae29",
   "metadata": {},
   "outputs": [
    {
     "data": {
      "text/plain": [
       "{'exon_skipping': 11,\n",
       " 'alternative_last_exon': 6,\n",
       " 'mutually_exclusive_exon-alternative_last_exon': 1,\n",
       " 'alternative_donor_site': 1,\n",
       " 'alternative_first_exon': 2,\n",
       " 'mutually_exclusive_exon-alternative_first_exon': 1}"
      ]
     },
     "execution_count": 58,
     "metadata": {},
     "output_type": "execute_result"
    }
   ],
   "source": [
    "feature_non_HE_upper"
   ]
  },
  {
   "cell_type": "code",
   "execution_count": 63,
   "id": "452ebeb0",
   "metadata": {},
   "outputs": [
    {
     "data": {
      "image/png": "[encoded data removed]",
      "text/plain": [
       "<Figure size 432x288 with 1 Axes>"
      ]
     },
     "metadata": {
      "needs_background": "light"
     },
     "output_type": "display_data"
    },
    {
     "data": {
      "text/plain": [
       "True"
      ]
     },
     "execution_count": 63,
     "metadata": {},
     "output_type": "execute_result"
    }
   ],
   "source": [
    "plot_outlier_event_frequent_pair(feature_non_HE_upper,feature_non_HE_lower,name='non_HE')"
   ]
  },
  {
   "cell_type": "code",
   "execution_count": null,
   "id": "869da13a",
   "metadata": {},
   "outputs": [],
   "source": []
  }
 ],
 "metadata": {
  "kernelspec": {
   "display_name": "Python 3 (ipykernel)",
   "language": "python",
   "name": "python3"
  },
  "language_info": {
   "codemirror_mode": {
    "name": "ipython",
    "version": 3
   },
   "file_extension": ".py",
   "mimetype": "text/x-python",
   "name": "python",
   "nbconvert_exporter": "python",
   "pygments_lexer": "ipython3",
   "version": "3.10.9"
  }
 },
 "nbformat": 4,
 "nbformat_minor": 5
}
