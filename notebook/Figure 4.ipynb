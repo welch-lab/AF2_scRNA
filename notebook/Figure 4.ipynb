{
 "cells": [
  {
   "cell_type": "code",
   "execution_count": 17,
   "id": "d7fff530",
   "metadata": {},
   "outputs": [],
   "source": [
    "import pandas as pd\n",
    "from scipy import stats\n",
    "import scipy.stats as sc\n",
    "import seaborn as sns\n",
    "import matplotlib.pyplot as plt\n",
    "import json\n",
    "import numpy as np\n",
    "import heapq\n",
    "import common_function as CF"
   ]
  },
  {
   "cell_type": "code",
   "execution_count": 2,
   "id": "c213d147",
   "metadata": {},
   "outputs": [],
   "source": [
    "#path for summary of surface charge\n",
    "reference_surface_charge_path='../data/json/reference_surface_charge.json'\n",
    "isoform_surface_charge_path='../data/json/isoform_surface_charge.json'\n",
    "difference_surface_charge_path='../data/json/difference_surface_charge.json'\n",
    "#path for as event\n",
    "as_event_path='../data/json/as_event.json'\n",
    "#path for quality\n",
    "reference_high_confident_path='../data/csv/reference_high_confident.csv'\n",
    "isoform_high_confident_path='../data/csv/isoform_high_confident.csv'"
   ]
  },
  {
   "cell_type": "markdown",
   "id": "1045275e",
   "metadata": {},
   "source": [
    "<span style=\"font-size: 20px;\">Plot surface charge distribution: </span>"
   ]
  },
  {
   "cell_type": "code",
   "execution_count": 3,
   "id": "538ef543",
   "metadata": {},
   "outputs": [],
   "source": [
    "isoform_surface_charge=CF.load_file_json(isoform_surface_charge_path)\n",
    "reference_surface_charge=CF.load_file_json(reference_surface_charge_path)\n",
    "difference_surface_charge=CF.load_file_json(difference_surface_charge_path)\n",
    "as_event=CF.load_file_json(as_event_path)\n",
    "reference_high_confident=pd.read_csv(reference_high_confident_path)\n",
    "isoform_high_confident=pd.read_csv(isoform_high_confident_path)"
   ]
  },
  {
   "cell_type": "code",
   "execution_count": 5,
   "id": "7d9b94a7",
   "metadata": {},
   "outputs": [],
   "source": [
    "#select only high and confident structures\n",
    "isoform_surface_charge,reference_surface_charge,difference_surface_charge=CF.combine_quality_metric(reference_high_confident,isoform_high_confident,reference_surface_charge,isoform_surface_charge,difference_surface_charge)"
   ]
  },
  {
   "cell_type": "code",
   "execution_count": 6,
   "id": "e1557fc6",
   "metadata": {},
   "outputs": [],
   "source": [
    "#plot distribtion\n",
    "def plot_distribtion_box(isoform_charge,reference_charge,outliers = True):\n",
    "    plot_df=pd.DataFrame(columns=['Class','Surface charge'])\n",
    "    index=0\n",
    "    surface_charge=[]\n",
    "    for charge in list(isoform_charge.values()):\n",
    "        surface_charge.append(charge)\n",
    "    for charge in list(reference_charge.values()):\n",
    "        surface_charge.append(charge)\n",
    "    plot_df['Class']=['Isoform']*len(isoform_charge)+['Reference']*len(reference_charge)\n",
    "    plot_df['Surface charge']=surface_charge\n",
    "    plt.figure(figsize=(2,4))\n",
    "    box_colors = ['#F3BF70','#25D9F5']\n",
    "    if outliers==False:\n",
    "        sns.boxplot(x=\"Class\",y=\"Surface charge\",data=plot_df,palette=\"Set3\",showfliers = False,notch=True)\n",
    "    else:  \n",
    "        sns.boxplot(x=\"Class\",y=\"Surface charge\",data=plot_df,flierprops = {'marker':'o','markerfacecolor':'black','markersize': 1},notch=True,width=0.8,palette=box_colors,order=['Reference','Isoform'])\n",
    "    plt.xlabel('')    \n",
    "    plt.ylabel(\"Surface charge\",fontsize=12)\n",
    "    plt.xticks(fontsize=12)\n",
    "    plt.yticks(range(-90, 95, 45),fontsize=12)\n",
    "    plt.gca().spines['right'].set_visible(False)\n",
    "    plt.gca().spines['top'].set_visible(False)\n",
    "    plt.show()\n",
    "    return plot_df"
   ]
  },
  {
   "cell_type": "code",
   "execution_count": 7,
   "id": "1e40d872",
   "metadata": {},
   "outputs": [
    {
     "data": {
      "image/png": "[encoded data removed]",
      "text/plain": [
       "<Figure size 144x288 with 1 Axes>"
      ]
     },
     "metadata": {
      "needs_background": "light"
     },
     "output_type": "display_data"
    },
    {
     "data": {
      "text/html": [
       "<div>\n",
       "<style scoped>\n",
       "    .dataframe tbody tr th:only-of-type {\n",
       "        vertical-align: middle;\n",
       "    }\n",
       "\n",
       "    .dataframe tbody tr th {\n",
       "        vertical-align: top;\n",
       "    }\n",
       "\n",
       "    .dataframe thead th {\n",
       "        text-align: right;\n",
       "    }\n",
       "</style>\n",
       "<table border=\"1\" class=\"dataframe\">\n",
       "  <thead>\n",
       "    <tr style=\"text-align: right;\">\n",
       "      <th></th>\n",
       "      <th>Class</th>\n",
       "      <th>Surface charge</th>\n",
       "    </tr>\n",
       "  </thead>\n",
       "  <tbody>\n",
       "    <tr>\n",
       "      <th>0</th>\n",
       "      <td>Isoform</td>\n",
       "      <td>5.0</td>\n",
       "    </tr>\n",
       "    <tr>\n",
       "      <th>1</th>\n",
       "      <td>Isoform</td>\n",
       "      <td>4.0</td>\n",
       "    </tr>\n",
       "    <tr>\n",
       "      <th>2</th>\n",
       "      <td>Isoform</td>\n",
       "      <td>-3.0</td>\n",
       "    </tr>\n",
       "    <tr>\n",
       "      <th>3</th>\n",
       "      <td>Isoform</td>\n",
       "      <td>-7.0</td>\n",
       "    </tr>\n",
       "    <tr>\n",
       "      <th>4</th>\n",
       "      <td>Isoform</td>\n",
       "      <td>14.0</td>\n",
       "    </tr>\n",
       "    <tr>\n",
       "      <th>...</th>\n",
       "      <td>...</td>\n",
       "      <td>...</td>\n",
       "    </tr>\n",
       "    <tr>\n",
       "      <th>11063</th>\n",
       "      <td>Reference</td>\n",
       "      <td>3.0</td>\n",
       "    </tr>\n",
       "    <tr>\n",
       "      <th>11064</th>\n",
       "      <td>Reference</td>\n",
       "      <td>7.0</td>\n",
       "    </tr>\n",
       "    <tr>\n",
       "      <th>11065</th>\n",
       "      <td>Reference</td>\n",
       "      <td>-2.0</td>\n",
       "    </tr>\n",
       "    <tr>\n",
       "      <th>11066</th>\n",
       "      <td>Reference</td>\n",
       "      <td>6.0</td>\n",
       "    </tr>\n",
       "    <tr>\n",
       "      <th>11067</th>\n",
       "      <td>Reference</td>\n",
       "      <td>-9.0</td>\n",
       "    </tr>\n",
       "  </tbody>\n",
       "</table>\n",
       "<p>11068 rows × 2 columns</p>\n",
       "</div>"
      ],
      "text/plain": [
       "           Class  Surface charge\n",
       "0        Isoform             5.0\n",
       "1        Isoform             4.0\n",
       "2        Isoform            -3.0\n",
       "3        Isoform            -7.0\n",
       "4        Isoform            14.0\n",
       "...          ...             ...\n",
       "11063  Reference             3.0\n",
       "11064  Reference             7.0\n",
       "11065  Reference            -2.0\n",
       "11066  Reference             6.0\n",
       "11067  Reference            -9.0\n",
       "\n",
       "[11068 rows x 2 columns]"
      ]
     },
     "execution_count": 7,
     "metadata": {},
     "output_type": "execute_result"
    }
   ],
   "source": [
    "plot_distribtion_box(isoform_surface_charge,reference_surface_charge)"
   ]
  },
  {
   "cell_type": "code",
   "execution_count": 8,
   "id": "17bbd22a",
   "metadata": {},
   "outputs": [],
   "source": [
    "#select the isoforms with alternative splicing types\n",
    "isoform_surface_charge_type,difference_surface_charge_type=CF.combine_quality_type(isoform_surface_charge,difference_surface_charge,as_event)"
   ]
  },
  {
   "cell_type": "code",
   "execution_count": 9,
   "id": "511266d7",
   "metadata": {},
   "outputs": [],
   "source": [
    "def plot_difference_outlier_box(difference_charge_type):\n",
    "    difference_charge_type_new={}\n",
    "    for isoform in difference_charge_type.keys():\n",
    "        difference_charge_type_new[isoform]=difference_charge_type[isoform][0]\n",
    "    plot_df = pd.DataFrame()\n",
    "    plot_df['Isoform']=list(difference_charge_type_new.keys())\n",
    "    plot_df['Surface charge difference']=list(difference_charge_type_new.values())\n",
    "    plot_df['Class']='Isoform'\n",
    "    fig = plt.figure(figsize=(2,4))\n",
    "    box_colors = ['#25D9F5']\n",
    "    sns.boxplot(data=plot_df, x='Class', y='Surface charge difference',flierprops = {'marker':'o','markerfacecolor':'black','markersize': 1},notch=True,width=0.8,palette=box_colors)\n",
    "    plt.xlabel('')\n",
    "    plt.xticks(fontsize=12)\n",
    "    plt.yticks(range(-60, 40, 30),fontsize=12)\n",
    "    plt.ylabel(\"Surface charge difference\",fontsize=12)\n",
    "    plt.gca().spines['right'].set_visible(False)\n",
    "    plt.gca().spines['top'].set_visible(False)\n",
    "    plt.show()\n",
    "    return plot_df"
   ]
  },
  {
   "cell_type": "code",
   "execution_count": 10,
   "id": "2a91a0cc",
   "metadata": {},
   "outputs": [
    {
     "data": {
      "image/png": "[encoded data removed]",
      "text/plain": [
       "<Figure size 144x288 with 1 Axes>"
      ]
     },
     "metadata": {
      "needs_background": "light"
     },
     "output_type": "display_data"
    },
    {
     "data": {
      "text/html": [
       "<div>\n",
       "<style scoped>\n",
       "    .dataframe tbody tr th:only-of-type {\n",
       "        vertical-align: middle;\n",
       "    }\n",
       "\n",
       "    .dataframe tbody tr th {\n",
       "        vertical-align: top;\n",
       "    }\n",
       "\n",
       "    .dataframe thead th {\n",
       "        text-align: right;\n",
       "    }\n",
       "</style>\n",
       "<table border=\"1\" class=\"dataframe\">\n",
       "  <thead>\n",
       "    <tr style=\"text-align: right;\">\n",
       "      <th></th>\n",
       "      <th>Isoform</th>\n",
       "      <th>Surface charge difference</th>\n",
       "      <th>Class</th>\n",
       "    </tr>\n",
       "  </thead>\n",
       "  <tbody>\n",
       "    <tr>\n",
       "      <th>0</th>\n",
       "      <td>Q9Y5U5-3</td>\n",
       "      <td>1.000000e+00</td>\n",
       "      <td>Isoform</td>\n",
       "    </tr>\n",
       "    <tr>\n",
       "      <th>1</th>\n",
       "      <td>Q8N2K1-3</td>\n",
       "      <td>2.000000e+00</td>\n",
       "      <td>Isoform</td>\n",
       "    </tr>\n",
       "    <tr>\n",
       "      <th>2</th>\n",
       "      <td>Q9BRK3-2</td>\n",
       "      <td>-1.000000e+00</td>\n",
       "      <td>Isoform</td>\n",
       "    </tr>\n",
       "    <tr>\n",
       "      <th>3</th>\n",
       "      <td>Q9BRK3-3</td>\n",
       "      <td>1.000000e+00</td>\n",
       "      <td>Isoform</td>\n",
       "    </tr>\n",
       "    <tr>\n",
       "      <th>4</th>\n",
       "      <td>Q05513-2</td>\n",
       "      <td>-1.000000e+01</td>\n",
       "      <td>Isoform</td>\n",
       "    </tr>\n",
       "    <tr>\n",
       "      <th>...</th>\n",
       "      <td>...</td>\n",
       "      <td>...</td>\n",
       "      <td>...</td>\n",
       "    </tr>\n",
       "    <tr>\n",
       "      <th>4947</th>\n",
       "      <td>Q9NVH6-8</td>\n",
       "      <td>3.552714e-15</td>\n",
       "      <td>Isoform</td>\n",
       "    </tr>\n",
       "    <tr>\n",
       "      <th>4948</th>\n",
       "      <td>Q9NVH6-2</td>\n",
       "      <td>-5.000000e+00</td>\n",
       "      <td>Isoform</td>\n",
       "    </tr>\n",
       "    <tr>\n",
       "      <th>4949</th>\n",
       "      <td>P51809-2</td>\n",
       "      <td>2.664535e-15</td>\n",
       "      <td>Isoform</td>\n",
       "    </tr>\n",
       "    <tr>\n",
       "      <th>4950</th>\n",
       "      <td>P51809-3</td>\n",
       "      <td>1.000000e+00</td>\n",
       "      <td>Isoform</td>\n",
       "    </tr>\n",
       "    <tr>\n",
       "      <th>4951</th>\n",
       "      <td>O75478-2</td>\n",
       "      <td>-7.000000e+00</td>\n",
       "      <td>Isoform</td>\n",
       "    </tr>\n",
       "  </tbody>\n",
       "</table>\n",
       "<p>4952 rows × 3 columns</p>\n",
       "</div>"
      ],
      "text/plain": [
       "       Isoform  Surface charge difference    Class\n",
       "0     Q9Y5U5-3               1.000000e+00  Isoform\n",
       "1     Q8N2K1-3               2.000000e+00  Isoform\n",
       "2     Q9BRK3-2              -1.000000e+00  Isoform\n",
       "3     Q9BRK3-3               1.000000e+00  Isoform\n",
       "4     Q05513-2              -1.000000e+01  Isoform\n",
       "...        ...                        ...      ...\n",
       "4947  Q9NVH6-8               3.552714e-15  Isoform\n",
       "4948  Q9NVH6-2              -5.000000e+00  Isoform\n",
       "4949  P51809-2               2.664535e-15  Isoform\n",
       "4950  P51809-3               1.000000e+00  Isoform\n",
       "4951  O75478-2              -7.000000e+00  Isoform\n",
       "\n",
       "[4952 rows x 3 columns]"
      ]
     },
     "execution_count": 10,
     "metadata": {},
     "output_type": "execute_result"
    }
   ],
   "source": [
    "plot_difference_outlier_box(difference_surface_charge_type)"
   ]
  },
  {
   "cell_type": "markdown",
   "id": "8de70c5f",
   "metadata": {},
   "source": [
    "<span style=\"font-size: 20px;\">Select outlier examples and plot the alternative splicing types in surface charge outliers: </span>"
   ]
  },
  {
   "cell_type": "code",
   "execution_count": 11,
   "id": "8a724351",
   "metadata": {},
   "outputs": [],
   "source": [
    "def calculate_outliters_charge(charge_difference_dic):\n",
    "    charge_difference_list=[]\n",
    "    for charge in charge_difference_dic.values():\n",
    "        charge_difference_list.append(charge[0])\n",
    "    Q1=np.percentile(charge_difference_list,25)\n",
    "    Q3=np.percentile(charge_difference_list,75)\n",
    "    IQR=1.5*(Q3-Q1)\n",
    "    upper_bound=Q3+IQR\n",
    "    lower_bound=Q1-IQR\n",
    "    lower_list=[]\n",
    "    upper_list=[]\n",
    "    for k,v in charge_difference_dic.items():\n",
    "        if v[0]>=upper_bound and type(v[1])==list:\n",
    "            upper_list.append(k)\n",
    "        elif v[0]<=lower_bound and type(v[1])==list:\n",
    "            lower_list.append(k)\n",
    "        else:\n",
    "            continue\n",
    "    return upper_list,lower_list,upper_bound,lower_bound"
   ]
  },
  {
   "cell_type": "code",
   "execution_count": 12,
   "id": "95f5dcce",
   "metadata": {},
   "outputs": [],
   "source": [
    "upper_list,lower_list,upper_bound,lower_bound=calculate_outliters_charge(difference_surface_charge_type)"
   ]
  },
  {
   "cell_type": "code",
   "execution_count": 13,
   "id": "82001657",
   "metadata": {},
   "outputs": [],
   "source": [
    "#replace the name for the plot\n",
    "def replace_as_abb_dic(plot_dic):\n",
    "    new_plot_dic={}\n",
    "    as_name_dic={'exon_skipping':'ES',\n",
    "                 'alternative_donor_site':'ADS',\n",
    "                 'alternative_acceptor_site':'AAS',\n",
    "                 'mutually_exclusive_exon':'MXE',\n",
    "                 'intron_retention':'IR',\n",
    "                 'alternative_first_exon':'AFE',\n",
    "                 'alternative_last_exon':'ALE',\n",
    "                 'mutually_exclusive_exon-alternative_first_exon':'MXE-AFE',\n",
    "                 'mutually_exclusive_exon-alternative_last_exon':'MXE-ALE'}\n",
    "    for key in plot_dic.keys():\n",
    "        new_plot_dic[as_name_dic[key]]=plot_dic[key]\n",
    "    return new_plot_dic"
   ]
  },
  {
   "cell_type": "code",
   "execution_count": 14,
   "id": "4fdc9f17",
   "metadata": {},
   "outputs": [],
   "source": [
    "def get_feature(charge_list,charge_dic):\n",
    "    count_feature={}\n",
    "    for isoform in charge_list:\n",
    "        for feature in charge_dic[isoform][1]:\n",
    "            if feature in count_feature.keys():\n",
    "                count_feature[feature]+=1\n",
    "            else:\n",
    "                count_feature[feature]=1\n",
    "    return count_feature"
   ]
  },
  {
   "cell_type": "code",
   "execution_count": 15,
   "id": "8d02f7d9",
   "metadata": {},
   "outputs": [],
   "source": [
    "feature_upper=get_feature(upper_list,difference_surface_charge_type)\n",
    "feature_lower=get_feature(lower_list,difference_surface_charge_type)"
   ]
  },
  {
   "cell_type": "code",
   "execution_count": 18,
   "id": "6ce3a690",
   "metadata": {},
   "outputs": [
    {
     "data": {
      "image/png": "[encoded data removed]",
      "text/plain": [
       "<Figure size 432x288 with 1 Axes>"
      ]
     },
     "metadata": {
      "needs_background": "light"
     },
     "output_type": "display_data"
    },
    {
     "data": {
      "text/plain": [
       "True"
      ]
     },
     "execution_count": 18,
     "metadata": {},
     "output_type": "execute_result"
    }
   ],
   "source": [
    "def plot_otlier_event_frequent_pair(positive_outlier,negative_outlier,threshold=5):\n",
    "    selected_positive_outlier_pair = heapq.nlargest(threshold, positive_outlier.items(), key=lambda item: item[1])\n",
    "    selected_negative_outlier_pair = heapq.nlargest(threshold, negative_outlier.items(), key=lambda item: item[1])\n",
    "    sorted_positive_outlier = dict(selected_positive_outlier_pair)\n",
    "    sorted_negative_outlier = dict(selected_negative_outlier_pair)\n",
    "    sorted_positive_outlier = replace_as_abb_dic(sorted_positive_outlier)\n",
    "    sorted_negative_outlier = replace_as_abb_dic(sorted_negative_outlier)\n",
    "    \n",
    "    as_list=list(sorted_positive_outlier.keys())\n",
    "    positive_outlier_list=list(sorted_positive_outlier.values())\n",
    "    negative_outlier_list=[sorted_negative_outlier[i] for i in as_list]\n",
    "\n",
    "    bar_width = 0.4\n",
    "    bar1_positions = range(len(as_list))\n",
    "    bar2_positions = [x + bar_width for x in bar1_positions]\n",
    " \n",
    "    plt.bar(bar1_positions, positive_outlier_list, width=bar_width, label='positive',color='#000099')\n",
    "    plt.bar(bar2_positions, negative_outlier_list, width=bar_width, label='negative',color='#FF0000')\n",
    "    \n",
    "    plt.xticks([x + bar_width/2 for x in bar1_positions], as_list,fontsize=14)\n",
    "    plt.legend(fontsize=12)\n",
    "    plt.xlabel('AS event type',fontsize=14)\n",
    "    plt.ylabel('AS event number',fontsize=14)\n",
    "    plt.yticks(range(0, 170, 40),fontsize=14)\n",
    "    plt.show()\n",
    "    return True\n",
    "plot_otlier_event_frequent_pair(feature_upper,feature_lower)"
   ]
  },
  {
   "cell_type": "code",
   "execution_count": null,
   "id": "a2234818",
   "metadata": {},
   "outputs": [],
   "source": []
  }
 ],
 "metadata": {
  "kernelspec": {
   "display_name": "Python 3 (ipykernel)",
   "language": "python",
   "name": "python3"
  },
  "language_info": {
   "codemirror_mode": {
    "name": "ipython",
    "version": 3
   },
   "file_extension": ".py",
   "mimetype": "text/x-python",
   "name": "python",
   "nbconvert_exporter": "python",
   "pygments_lexer": "ipython3",
   "version": "3.9.7"
  }
 },
 "nbformat": 4,
 "nbformat_minor": 5
}
